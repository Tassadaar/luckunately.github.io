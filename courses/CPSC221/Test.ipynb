{
 "cells": [
  {
   "cell_type": "code",
   "execution_count": 26,
   "metadata": {},
   "outputs": [
    {
     "name": "stdout",
     "output_type": "stream",
     "text": [
      "1 29 (29+0j) True\n",
      "5 290 (290+0j) True\n",
      "25 2175.0 (2175+0j) True\n",
      "125 14500.0 (14500+0j) True\n",
      "625 90625.0 (90625+0j) True\n",
      "3125 543750.0 (543750+0j) True\n",
      "15625 3171875.0 (3171875.0000000005+0j) False\n"
     ]
    }
   ],
   "source": [
    "from cmath import log\n",
    "import math\n",
    "\n",
    "def T(n):\n",
    "    if n == 1:\n",
    "        return 29\n",
    "    return 5*T(n/5)+29*n\n",
    "def T1(n):\n",
    "    return 29*n*(log(n,5)+1)\n",
    "\n",
    "\n",
    "\n",
    "i = 1\n",
    "while i <= 5**6:\n",
    "    print (i, T(i), T1(i), T(i) == T1(i))\n",
    "    i *= 5\n"
   ]
  },
  {
   "cell_type": "code",
   "execution_count": 2,
   "metadata": {},
   "outputs": [
    {
     "name": "stdout",
     "output_type": "stream",
     "text": [
      "[6, 20, 21, 39, 44, 71, 80]\n"
     ]
    }
   ],
   "source": [
    "# array = [80,39,20,21,6,71,44]\n",
    "array = [80,71,44,39,21,20,6]\n",
    "\n",
    "def qsort(array, lo, hi):\n",
    "    if lo < hi:\n",
    "        p = partition(array, lo, hi)\n",
    "        qsort(array, lo, p - 1)\n",
    "        qsort(array, p + 1, hi)\n",
    "    return array\n",
    "\n",
    "def partition(array, lo, hi):\n",
    "    p = lo +1 \n",
    "    for i in range(p, hi+1):\n",
    "        if array[i] < array[lo]:\n",
    "            array[i], array[p] = array[p], array[i]\n",
    "            p += 1\n",
    "    array[lo], array[p-1] = array[p-1], array[lo]\n",
    "    return p-1\n",
    "\n",
    "print(qsort(array, 0, len(array)-1))"
   ]
  },
  {
   "cell_type": "code",
   "execution_count": 17,
   "metadata": {},
   "outputs": [
    {
     "name": "stdout",
     "output_type": "stream",
     "text": [
      "16 16 15.999999999999998 16.0\n",
      "208 208 208.0 208.0\n",
      "2336 2336 2336.0 2336.0\n",
      "25760 25760 25760.000000000004 25760.000000000004\n"
     ]
    }
   ],
   "source": [
    "def R(n):\n",
    "    if n == 0:\n",
    "        return 1\n",
    "    return 7 + R(n-1)\n",
    "\n",
    "def R2(n):\n",
    "    return 7*n + 1\n",
    "\n",
    "def S(n):\n",
    "    if n == 1:\n",
    "        return 16\n",
    "    return 11 * S(n-1) + 16*n\n",
    "\n",
    "def S2(n):\n",
    "    if n == 0:\n",
    "        return 0\n",
    "    return 11 * S2(n-1) + 16*n\n",
    "\n",
    "def S3(n):\n",
    "    return 16*11**n * ((11)**(-n-2)*n-(11)**(-n-1) * (n+1) +1/11)*121/100\n",
    "\n",
    "def S4(n):\n",
    "    return 484*11**n/25*(11**(-n-2)*n-(11)**(-n-1) * (n+1) +1/11)\n",
    "for i in range(1,5):\n",
    "    print(S2(i), S(i), S3(i), S4(i))"
   ]
  }
 ],
 "metadata": {
  "kernelspec": {
   "display_name": "Python 3",
   "language": "python",
   "name": "python3"
  },
  "language_info": {
   "codemirror_mode": {
    "name": "ipython",
    "version": 3
   },
   "file_extension": ".py",
   "mimetype": "text/x-python",
   "name": "python",
   "nbconvert_exporter": "python",
   "pygments_lexer": "ipython3",
   "version": "undefined.undefined.undefined"
  }
 },
 "nbformat": 4,
 "nbformat_minor": 2
}
