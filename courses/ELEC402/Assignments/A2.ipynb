{
 "cells": [
  {
   "cell_type": "markdown",
   "metadata": {},
   "source": [
    "Constants"
   ]
  },
  {
   "cell_type": "code",
   "execution_count": 5,
   "metadata": {},
   "outputs": [],
   "source": [
    "V_thn=0.4\n",
    "miu_n=250*10**-4\n",
    "CJ_n=0.56*10**-3\n",
    "CJSW_n=0.35*10**-11\n",
    "MJ_n=0.45\n",
    "MJSW_n=0.2\n",
    "CGDO_n=0.4*10**-9\n",
    "\n",
    "Phi_0=0.9 \n",
    "C_ox=1.4*10**-3\n",
    "\n",
    "V_thp=0.5\n",
    "miu_p=100*10**-4\n",
    "CJ_p=0.94*10**-3\n",
    "CJSW_p=0.32*10**-11\n",
    "Mj_p=0.50\n",
    "MJSW_p=0.3\n",
    "CGDO_p=0.3*10**-9\n",
    "\n",
    "C_bar = 2*10**-9"
   ]
  },
  {
   "cell_type": "markdown",
   "metadata": {},
   "source": [
    "Q1:"
   ]
  },
  {
   "cell_type": "code",
   "execution_count": 6,
   "metadata": {},
   "outputs": [],
   "source": [
    "g=1\n",
    "s=1\n",
    "d=0"
   ]
  },
  {
   "cell_type": "code",
   "execution_count": 7,
   "metadata": {},
   "outputs": [
    {
     "name": "stdout",
     "output_type": "stream",
     "text": [
      "At cutoff, C_gb is 9.072e-18 F, C_gs and C_gd are 0\n",
      "At Triode, C_gb is 0, Cgs = Cgd = 4.536e-18 F\n",
      "At saturation, C_gb is 0, Cgs = 6.048e-18 F, Cgd = 0 F\n",
      "For Nmos C_db=C_sb=1.420e-17 F\n",
      "For Pmos C_db=C_sb=1.551e-17 F\n"
     ]
    }
   ],
   "source": [
    "\n",
    "W=120 * 10**-9\n",
    "L=60 * 10**-9\n",
    "D = 3 * L\n",
    "x_d = 0.05 * L\n",
    "L_eff = L - 2 * x_d\n",
    "P1 = W + 2 * D\n",
    "P2 = W\n",
    "A = W * D\n",
    "\n",
    "b_n = 0\n",
    "b_p = 1\n",
    "\n",
    "gs = g-s\n",
    "gd = g-d\n",
    "sd = s-d\n",
    "ds = d-s\n",
    "sg = s-g\n",
    "dg = d-g\n",
    "\n",
    "value = C_ox * W * L_eff\n",
    "\n",
    "sb_n = s - b_n\n",
    "C_A_n = CJ_n * (1 + sb_n / Phi_0) ** (-MJ_n)\n",
    "C_P1_n = CJSW_n * (1 + sb_n / Phi_0) ** (-MJSW_n)\n",
    "C_P2_n = CJSW_n * (1 + sb_n / Phi_0) ** (-MJSW_n)\n",
    "Csb_n = C_A_n * A + C_P1_n * (P1) + C_P2_n * (P2)\n",
    "\n",
    "sb_p = abs(s - b_p)\n",
    "C_A_p = CJ_p * (1 + sb_p / Phi_0) ** (-Mj_p)\n",
    "C_P1_p = CJSW_p * (1 + sb_p / Phi_0) ** (-MJSW_p)\n",
    "C_P2_p = CJSW_p * (1 + sb_p / Phi_0) ** (-MJSW_p)\n",
    "Csb_p = C_A_p * A + C_P1_p * (P1) + C_P2_p * (P2)\n",
    "\n",
    "print(f\"At cutoff, C_gb is {value:.3e} F, C_gs and C_gd are 0\")\n",
    "print(f\"At Triode, C_gb is 0, Cgs = Cgd = {value / 2:.3e} F\")\n",
    "print(f\"At saturation, C_gb is 0, Cgs = {value * 2 / 3:.3e} F, Cgd = 0 F\")\n",
    "print(f\"For Nmos C_db=C_sb={Csb_n:.3e} F\")\n",
    "print(f\"For Pmos C_db=C_sb={Csb_p:.3e} F\")\n",
    "\n"
   ]
  },
  {
   "cell_type": "code",
   "execution_count": 8,
   "metadata": {},
   "outputs": [
    {
     "name": "stdout",
     "output_type": "stream",
     "text": [
      "Req_n = 5.952e+04 ohm\n",
      "C_ave = 9.072e-18 F\n",
      "fall time = 1.188e-12 s\n"
     ]
    }
   ],
   "source": [
    "R_eq_n = 2.5 / (miu_n * C_ox * W / L * (1 - V_thn)) \n",
    "print(f\"Req_n = {R_eq_n:.3e} ohm\")\n",
    "x_d = 0.05 * L\n",
    "L_eff = L - 2 * x_d\n",
    "C_ave = C_ox * W * L_eff \n",
    "print(f\"C_ave = {C_ave:.3e} F\")\n",
    "\n",
    "fall_time = R_eq_n * C_ave * 2.2\n",
    "print(f\"fall time = {fall_time:.3e} s\")"
   ]
  },
  {
   "cell_type": "code",
   "execution_count": 9,
   "metadata": {},
   "outputs": [
    {
     "name": "stdout",
     "output_type": "stream",
     "text": [
      "beta_n = 7.000e-05 F, beta_p = 2.333e+02 times W_p F\n",
      "When Wp = 60nm, beta_p = 1.400e-05 F\n",
      "When Wp = 120nm, beta_p = 2.800e-05 F\n",
      "When Wp = 360nm, beta_p = 8.400e-05 F\n"
     ]
    }
   ],
   "source": [
    "beta_n = miu_n * C_ox * W / L\n",
    "beta_p = miu_p * C_ox / L\n",
    "print(f\"beta_n = {beta_n:.3e} F, beta_p = {beta_p:.3e} times W_p F\")\n",
    "\n",
    "print(f\"When Wp = 60nm, beta_p = {beta_p * 60 * 10**-9:.3e} F\")\n",
    "print(f\"When Wp = 120nm, beta_p = {beta_p * 120 * 10**-9:.3e} F\")\n",
    "print(f\"When Wp = 360nm, beta_p = {beta_p * 360 * 10**-9:.3e} F\")"
   ]
  }
 ],
 "metadata": {
  "kernelspec": {
   "display_name": "Python 3",
   "language": "python",
   "name": "python3"
  },
  "language_info": {
   "codemirror_mode": {
    "name": "ipython",
    "version": 3
   },
   "file_extension": ".py",
   "mimetype": "text/x-python",
   "name": "python",
   "nbconvert_exporter": "python",
   "pygments_lexer": "ipython3",
   "version": "3.11.5"
  }
 },
 "nbformat": 4,
 "nbformat_minor": 2
}
