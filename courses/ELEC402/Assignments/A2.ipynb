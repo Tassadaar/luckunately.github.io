{
 "cells": [
  {
   "cell_type": "markdown",
   "metadata": {},
   "source": [
    "Constants"
   ]
  },
  {
   "cell_type": "code",
   "execution_count": 4,
   "metadata": {},
   "outputs": [],
   "source": [
    "V_thn=0.4\n",
    "miu_n=250*10**-4\n",
    "CJ_n=0.56*10**-3\n",
    "CJSW_n=0.35*10**-11\n",
    "MJ_n=0.45\n",
    "MJSW_n=0.2\n",
    "CGDO_n=0.4*10**-9\n",
    "\n",
    "PB=0.9 \n",
    "C_ox=1.4*10**-3\n",
    "\n",
    "V_thp=0.5\n",
    "miu_p=100*10**-4\n",
    "CJ_p=0.94*10**-3\n",
    "CJSW_p=0.32*10**-11\n",
    "Mj_p=0.50\n",
    "MJSW_p=0.3\n",
    "CGDO_p=0.3*10**-9\n",
    "\n",
    "C_bar = 2*10**-9"
   ]
  },
  {
   "cell_type": "markdown",
   "metadata": {},
   "source": [
    "Q1:"
   ]
  },
  {
   "cell_type": "code",
   "execution_count": 5,
   "metadata": {},
   "outputs": [
    {
     "name": "stdout",
     "output_type": "stream",
     "text": [
      "At cutoff, C_gb is 1.008e-17 F, C_gs and C_gd are 0\n",
      "At Triode, C_gb is 0, Cgs = Cgd = 5.040e-18 F\n",
      "At saturation, C_gb is 0, Cgs = 6.720e-18 F, Cgd = 0 F\n",
      "For Nmos C_db=C_sb=1.378e-17 F\n",
      "For Pmos C_db=C_sb=2.184e-17 F\n"
     ]
    }
   ],
   "source": [
    "g=1\n",
    "s=1\n",
    "d=1\n",
    "W=120 * 10**-9\n",
    "L=60 * 10**-9\n",
    "D = 3 * L\n",
    "\n",
    "gs = g-s\n",
    "gd = g-d\n",
    "sd = s-d\n",
    "ds = d-s\n",
    "sg = s-g\n",
    "dg = d-g\n",
    "\n",
    "value = C_ox * W * L\n",
    "\n",
    "C_diff_n = CJ_n * D * W + CJSW_n * (2 * D + W)\n",
    "C_diff_p = CJ_p * D * W + CJSW_p * (2 * D + W)\n",
    "\n",
    "print(f\"At cutoff, C_gb is {value:.3e} F, C_gs and C_gd are 0\")\n",
    "print(f\"At Triode, C_gb is 0, Cgs = Cgd = {value / 2:.3e} F\")\n",
    "print(f\"At saturation, C_gb is 0, Cgs = {value * 2 / 3:.3e} F, Cgd = 0 F\")\n",
    "print(f\"For Nmos C_db=C_sb={C_diff_n:.3e} F\")\n",
    "print(f\"For Pmos C_db=C_sb={C_diff_p:.3e} F\")\n",
    "\n"
   ]
  },
  {
   "cell_type": "code",
   "execution_count": 6,
   "metadata": {},
   "outputs": [
    {
     "name": "stdout",
     "output_type": "stream",
     "text": [
      "Req_n = 5.952e+04 ohm\n"
     ]
    }
   ],
   "source": [
    "Req_n = 2.5 / (miu_n * C_ox * W / L * (1 - V_thn)) \n",
    "print(f\"Req_n = {Req_n:.3e} ohm\")\n",
    "x_d = 0.05 * L\n",
    "L_eff = L - 2 * x_d"
   ]
  }
 ],
 "metadata": {
  "kernelspec": {
   "display_name": "Python 3",
   "language": "python",
   "name": "python3"
  },
  "language_info": {
   "codemirror_mode": {
    "name": "ipython",
    "version": 3
   },
   "file_extension": ".py",
   "mimetype": "text/x-python",
   "name": "python",
   "nbconvert_exporter": "python",
   "pygments_lexer": "ipython3",
   "version": "3.11.5"
  }
 },
 "nbformat": 4,
 "nbformat_minor": 2
}
