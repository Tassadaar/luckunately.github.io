{
 "cells": [
  {
   "cell_type": "markdown",
   "metadata": {},
   "source": [
    "Constants"
   ]
  },
  {
   "cell_type": "code",
   "execution_count": 18,
   "metadata": {},
   "outputs": [],
   "source": [
    "V_thn=0.4\n",
    "miu_n=250*10**-4\n",
    "CJ_n=0.56*10**-3\n",
    "CJSW_n=0.35*10**-11\n",
    "MJ_n=0.45\n",
    "MJSW_n=0.2\n",
    "CGDO_n=0.4*10**-9\n",
    "\n",
    "Phi_0=0.9 \n",
    "C_ox=1.4*10**-3\n",
    "\n",
    "V_thp=0.5\n",
    "miu_p=100*10**-4\n",
    "CJ_p=0.94*10**-3\n",
    "CJSW_p=0.32*10**-11\n",
    "Mj_p=0.50\n",
    "MJSW_p=0.3\n",
    "CGDO_p=0.3*10**-9\n",
    "\n",
    "C_bar = 2*10**-9"
   ]
  },
  {
   "cell_type": "markdown",
   "metadata": {},
   "source": [
    "Q1:"
   ]
  },
  {
   "cell_type": "code",
   "execution_count": 19,
   "metadata": {},
   "outputs": [],
   "source": [
    "g=1\n",
    "s=1\n",
    "d=0"
   ]
  },
  {
   "cell_type": "code",
   "execution_count": null,
   "metadata": {},
   "outputs": [
    {
     "name": "stdout",
     "output_type": "stream",
     "text": [
      "For Nmos C_db=C_sb=1.009e-17 F\n",
      "\n",
      "At cutoff,\n",
      " C_gb is 9.072e-18 F,\n",
      " C_gs is 0,\n",
      " C_gd are 0,\n",
      " with overlap capacitance,\n",
      " Cgs = 4.800e-17 F,\n",
      " Cgd = 4.800e-17 F\n",
      "\n",
      "At Triode,\n",
      " C_gb is 0,\n",
      " Cgs = 4.536e-18 F,\n",
      " Cgd = 4.536e-18 F,\n",
      " with overlap capacitance,\n",
      " Cgs = 5.254e-17 F,\n",
      " Cgd = 5.254e-17 F\n",
      "\n",
      "At saturation,\n",
      " C_gb is 0,\n",
      " Cgs = 6.048e-18 F,\n",
      " Cgd = 0 F,\n",
      " with overlap capacitance,\n",
      " Cgs = 5.405e-17 F,\n",
      " Cgd = 4.800e-17 F\n",
      "\n",
      "For Pmos C_db=C_sb=2.184e-17 F\n",
      "\n",
      "At cutoff,\n",
      " C_gb is 9.072e-18 F,\n",
      " C_gs is 0,\n",
      " C_gd are 0,\n",
      " with overlap capacitance,\n",
      " Cgs = 3.600e-17 F,\n",
      " Cgd = 3.600e-17 F\n",
      "\n",
      "At Triode,\n",
      " C_gb is 0,\n",
      " Cgs = 4.536e-18 F,\n",
      " Cgd = 4.536e-18 F,\n",
      " with overlap capacitance,\n",
      " Cgs = 4.054e-17 F,\n",
      " Cgd = 4.054e-17 F\n",
      "\n",
      "At saturation,\n",
      " C_gb is 0,\n",
      " Cgs = 6.048e-18 F,\n",
      " Cgd = 0 F,\n",
      " with overlap capacitance,\n",
      " Cgs = 4.205e-17 F,\n",
      " Cgd = 3.600e-17 F\n",
      "\n"
     ]
    }
   ],
   "source": [
    "\n",
    "W=120 * 10**-9\n",
    "L=60 * 10**-9\n",
    "D = 3 * L\n",
    "x_d = 0.05 * L\n",
    "L_eff = L - 2 * x_d\n",
    "P1 = W + 2 * D\n",
    "P2 = W\n",
    "A = W * D\n",
    "\n",
    "b_n = 0\n",
    "b_p = 1\n",
    "\n",
    "gs = g-s\n",
    "gd = g-d\n",
    "sd = s-d\n",
    "ds = d-s\n",
    "sg = s-g\n",
    "dg = d-g\n",
    "\n",
    "value = C_ox * W * L_eff\n",
    "\n",
    "sb_n = s - b_n\n",
    "db_n = d - b_n\n",
    "C_A_n = CJ_n * (1 + sb_n / Phi_0) ** (-MJ_n)\n",
    "C_P1_n = CJSW_n * (1 + sb_n / Phi_0) ** (-MJSW_n)\n",
    "# C_P2_n = CJSW_n * (1 + sb_n / Phi_0) ** (-MJSW_n)\n",
    "\n",
    "Csb_n = C_A_n * A + C_P1_n * (P1)# + C_P2_n * (P2)\n",
    "\n",
    "C_A_n = CJ_n * (1 + db_n / Phi_0) ** (-MJ_n)\n",
    "C_P1_n = CJSW_n * (1 + db_n / Phi_0) ** (-MJSW_n)\n",
    "# C_P2_n = CJSW_n * (1 + sb_n / Phi_0) ** (-MJSW_n)\n",
    "\n",
    "Cdb_n = C_A_n * A + C_P1_n * (P1)# + C_P2_n * (P2)\n",
    "\n",
    "sb_p = abs(s - b_p)\n",
    "db_p = abs(d - b_p)\n",
    "C_A_p = CJ_p * (1 + sb_p / Phi_0) ** (-Mj_p)\n",
    "C_P1_p = CJSW_p * (1 + sb_p / Phi_0) ** (-MJSW_p)\n",
    "# C_P2_p = CJSW_p * (1 + sb_p / Phi_0) ** (-MJSW_p)\n",
    "Csb_p = C_A_p * A + C_P1_p * (P1)# + C_P2_p * (P2)\n",
    "\n",
    "C_A_p = CJ_p * (1 + db_p / Phi_0) ** (-Mj_p)\n",
    "C_P1_p = CJSW_p * (1 + db_p / Phi_0) ** (-MJSW_p)\n",
    "# C_P2_p = CJSW_p * (1 + sb_p / Phi_0) ** (-MJSW_p)\n",
    "\n",
    "Cdb_p = C_A_p * A + C_P1_p * (P1)# + C_P2_p * (P2)\n",
    "\n",
    "CgdO_n = CGDO_n * W\n",
    "CgdO_p = CGDO_p * W\n",
    "\n",
    "print(f\"For Nmos C_sb={Csb_n:.3e} F\\n C_db={Cdb_n:.3e} F\\n\")\n",
    "print(f\"At cutoff,\\n C_gb is {value:.3e} F,\\n C_gs is 0,\\n C_gd are 0,\\n with overlap capacitance,\\n Cgs = {CgdO_n:.3e} F,\\n Cgd = {CgdO_n:.3e} F\\n\")\n",
    "print(f\"At Triode,\\n C_gb is 0,\\n Cgs = {value / 2:.3e} F,\\n Cgd = {value / 2:.3e} F,\\n with overlap capacitance,\\n Cgs = {value / 2 + CgdO_n:.3e} F,\\n Cgd = {value / 2 + CgdO_n:.3e} F\\n\")\n",
    "print(f\"At saturation,\\n C_gb is 0,\\n Cgs = {value * 2 / 3:.3e} F,\\n Cgd = 0 F,\\n with overlap capacitance,\\n Cgs = {value * 2 / 3 + CgdO_n:.3e} F,\\n Cgd = {CgdO_n:.3e} F\\n\")\n",
    "\n",
    "print(f\"For Pmos C_sb={Csb_p:.3e} F\\n C_db={Cdb_p:.3e} F\\n\")\n",
    "print(f\"At cutoff,\\n C_gb is {value:.3e} F,\\n C_gs is 0,\\n C_gd are 0,\\n with overlap capacitance,\\n Cgs = {CgdO_p:.3e} F,\\n Cgd = {CgdO_p:.3e} F\\n\")\n",
    "print(f\"At Triode,\\n C_gb is 0,\\n Cgs = {value / 2:.3e} F,\\n Cgd = {value / 2:.3e} F,\\n with overlap capacitance,\\n Cgs = {value / 2 + CgdO_p:.3e} F,\\n Cgd = {value / 2 + CgdO_p:.3e} F\\n\")\n",
    "print(f\"At saturation,\\n C_gb is 0,\\n Cgs = {value * 2 / 3:.3e} F,\\n Cgd = 0 F,\\n with overlap capacitance,\\n Cgs = {value * 2 / 3 + CgdO_p:.3e} F,\\n Cgd = {CgdO_p:.3e} F\\n\")\n",
    "\n"
   ]
  },
  {
   "cell_type": "code",
   "execution_count": 21,
   "metadata": {},
   "outputs": [
    {
     "name": "stdout",
     "output_type": "stream",
     "text": [
      "Req_n = 5.952e+04 ohm\n",
      "C_ave = 7.560e-18 F\n",
      "fall time = 9.900e-13 s\n"
     ]
    }
   ],
   "source": [
    "R_eq_n = 2.5 / (miu_n * C_ox * W / L * (1 - V_thn)) \n",
    "print(f\"Req_n = {R_eq_n:.3e} ohm\")\n",
    "x_d = 0.05 * L\n",
    "L_eff = L - 2 * x_d\n",
    "C_ave = C_ox * W * L_eff * (1 + 2 / 3) / 2\n",
    "print(f\"C_ave = {C_ave:.3e} F\")\n",
    "\n",
    "fall_time = R_eq_n * C_ave * 2.2\n",
    "print(f\"fall time = {fall_time:.3e} s\")"
   ]
  },
  {
   "cell_type": "code",
   "execution_count": 22,
   "metadata": {},
   "outputs": [
    {
     "name": "stdout",
     "output_type": "stream",
     "text": [
      "beta_n = 7.000e-05 F, beta_p = 2.333e+02 times W_p F\n",
      "When Wp = 60nm, beta_p = 1.400e-05 F\n",
      "When Wp = 120nm, beta_p = 2.800e-05 F\n",
      "When Wp = 360nm, beta_p = 8.400e-05 F\n"
     ]
    }
   ],
   "source": [
    "beta_n = miu_n * C_ox * W / L\n",
    "beta_p = miu_p * C_ox / L\n",
    "print(f\"beta_n = {beta_n:.3e} F, beta_p = {beta_p:.3e} times W_p F\")\n",
    "\n",
    "print(f\"When Wp = 60nm, beta_p = {beta_p * 60 * 10**-9:.3e} F\")\n",
    "print(f\"When Wp = 120nm, beta_p = {beta_p * 120 * 10**-9:.3e} F\")\n",
    "print(f\"When Wp = 360nm, beta_p = {beta_p * 360 * 10**-9:.3e} F\")"
   ]
  }
 ],
 "metadata": {
  "kernelspec": {
   "display_name": "Python 3",
   "language": "python",
   "name": "python3"
  },
  "language_info": {
   "codemirror_mode": {
    "name": "ipython",
    "version": 3
   },
   "file_extension": ".py",
   "mimetype": "text/x-python",
   "name": "python",
   "nbconvert_exporter": "python",
   "pygments_lexer": "ipython3",
   "version": "3.11.5"
  }
 },
 "nbformat": 4,
 "nbformat_minor": 2
}
