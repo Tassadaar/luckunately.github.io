{
  "cells": [
    {
      "cell_type": "markdown",
      "metadata": {
        "id": "8EqjvJfzM_AH"
      },
      "source": [
        "# CPEN 355 - Random forest from scratch\n",
        "\n",
        "> A walkthrough on how to write a Decision Tree classifier from scratch."
      ]
    },
    {
      "cell_type": "markdown",
      "metadata": {
        "id": "CZbW4yQMM_AJ"
      },
      "source": [
        "[![Binder](https://mybinder.org/badge_logo.svg)](https://mybinder.org/v2/gh/lewtun/hepml/master?urlpath=lab/tree/notebooks%2Flesson03_random-forest-from-scratch.ipynb) [![Open In Colab](https://colab.research.google.com/assets/colab-badge.svg)](https://colab.research.google.com/github/lewtun/hepml/blob/master/notebooks/lesson03_random-forest-from-scratch.ipynb)"
      ]
    },
    {
      "cell_type": "markdown",
      "metadata": {
        "id": "v5hxrno0M_AJ"
      },
      "source": [
        "## References"
      ]
    },
    {
      "cell_type": "markdown",
      "metadata": {
        "id": "s7wjxb4hM_AJ"
      },
      "source": [
        "This lesson adapts the implementation for regression trees from\n",
        "\n",
        "* Lessons 5 & 7 from Jeremy Howard's [_Practical Machine Learning for Coders_](http://course18.fast.ai/ml.html) course\n",
        "\n",
        "to binary classificaion tasks. You may also find the following references useful for conceptual understanding:\n",
        "\n",
        "* [_Machine Learning Recipes #8_](https://www.youtube.com/watch?time_continue=492&v=LDRbO9a6XPU&feature=emb_logo) by Josh Gordon\n",
        "* [A visual introduction to machine learning](http://www.r2d3.us/visual-intro-to-machine-learning-part-1/) by Stephanie Yee and Tony Chu\n",
        "* [_Object-Oriented Programming (OOP) in Python 3_](https://realpython.com/python3-object-oriented-programming/) by Real Python"
      ]
    },
    {
      "cell_type": "markdown",
      "metadata": {
        "id": "yp-bq1OSM_AK"
      },
      "source": [
        "## The data\n",
        "\n",
        "We will use the [SUSY dataset](http://archive.ics.uci.edu/ml/datasets/SUSY#).SUSY data set consists of 5,000,000 Monte-Carlo samples of supersymmetric and non-supersymmetric collisions with  18  features. The signal process is the production of electrically-charged supersymmetric particles which decay to  W  bosons and an electrically-neutral supersymmetric particle that is invisible to the detector. We only usea random sample of 100,000 events:\n",
        "\n",
        "* `susy_sample.feather`\n"
      ]
    },
    {
      "cell_type": "markdown",
      "metadata": {
        "id": "g3QXy9oXM_AK"
      },
      "source": [
        "## Import libraries"
      ]
    },
    {
      "cell_type": "code",
      "execution_count": 1,
      "metadata": {
        "id": "TrZVSJ6UM_AK"
      },
      "outputs": [],
      "source": [
        "# reload modules before executing user code\n",
        "%load_ext autoreload\n",
        "# reload all modules every time before executing Python code\n",
        "%autoreload 2\n",
        "# render plots in notebook\n",
        "%matplotlib inline"
      ]
    },
    {
      "cell_type": "code",
      "execution_count": 2,
      "metadata": {
        "id": "wyL8Fr83M_AL",
        "outputId": "245d44f9-e280-410e-efaf-7771d417ed6e",
        "colab": {
          "base_uri": "https://localhost:8080/"
        }
      },
      "outputs": [
        {
          "output_type": "stream",
          "name": "stdout",
          "text": [
            "Collecting hepml\n",
            "  Downloading hepml-0.0.12-py3-none-any.whl (25 kB)\n",
            "Requirement already satisfied: scikit-learn in /usr/local/lib/python3.10/dist-packages (from hepml) (1.2.2)\n",
            "Requirement already satisfied: pandas in /usr/local/lib/python3.10/dist-packages (from hepml) (1.5.3)\n",
            "Requirement already satisfied: numpy in /usr/local/lib/python3.10/dist-packages (from hepml) (1.23.5)\n",
            "Requirement already satisfied: seaborn in /usr/local/lib/python3.10/dist-packages (from hepml) (0.12.2)\n",
            "Collecting black (from hepml)\n",
            "  Downloading black-23.10.1-cp310-cp310-manylinux_2_17_x86_64.manylinux2014_x86_64.whl (1.6 MB)\n",
            "\u001b[2K     \u001b[90m━━━━━━━━━━━━━━━━━━━━━━━━━━━━━━━━━━━━━━━━\u001b[0m \u001b[32m1.6/1.6 MB\u001b[0m \u001b[31m14.0 MB/s\u001b[0m eta \u001b[36m0:00:00\u001b[0m\n",
            "\u001b[?25hRequirement already satisfied: tqdm in /usr/local/lib/python3.10/dist-packages (from hepml) (4.66.1)\n",
            "Collecting wget (from hepml)\n",
            "  Downloading wget-3.2.zip (10 kB)\n",
            "  Preparing metadata (setup.py) ... \u001b[?25l\u001b[?25hdone\n",
            "Collecting nbdev (from hepml)\n",
            "  Downloading nbdev-2.3.13-py3-none-any.whl (66 kB)\n",
            "\u001b[2K     \u001b[90m━━━━━━━━━━━━━━━━━━━━━━━━━━━━━━━━━━━━━━━━\u001b[0m \u001b[32m66.1/66.1 kB\u001b[0m \u001b[31m6.9 MB/s\u001b[0m eta \u001b[36m0:00:00\u001b[0m\n",
            "\u001b[?25hRequirement already satisfied: sklearn-pandas in /usr/local/lib/python3.10/dist-packages (from hepml) (2.2.0)\n",
            "Requirement already satisfied: graphviz in /usr/local/lib/python3.10/dist-packages (from hepml) (0.20.1)\n",
            "Requirement already satisfied: gdown in /usr/local/lib/python3.10/dist-packages (from hepml) (4.6.6)\n",
            "Requirement already satisfied: pyarrow in /usr/local/lib/python3.10/dist-packages (from hepml) (9.0.0)\n",
            "Requirement already satisfied: numba in /usr/local/lib/python3.10/dist-packages (from hepml) (0.56.4)\n",
            "Requirement already satisfied: Cython in /usr/local/lib/python3.10/dist-packages (from hepml) (3.0.4)\n",
            "Requirement already satisfied: fastprogress in /usr/local/lib/python3.10/dist-packages (from hepml) (1.0.3)\n",
            "Collecting giotto-tda (from hepml)\n",
            "  Downloading giotto_tda-0.6.0-cp310-cp310-manylinux_2_17_x86_64.manylinux2014_x86_64.whl (1.3 MB)\n",
            "\u001b[2K     \u001b[90m━━━━━━━━━━━━━━━━━━━━━━━━━━━━━━━━━━━━━━━━\u001b[0m \u001b[32m1.3/1.3 MB\u001b[0m \u001b[31m38.4 MB/s\u001b[0m eta \u001b[36m0:00:00\u001b[0m\n",
            "\u001b[?25hRequirement already satisfied: pillow in /usr/local/lib/python3.10/dist-packages (from hepml) (9.4.0)\n",
            "Requirement already satisfied: click>=8.0.0 in /usr/local/lib/python3.10/dist-packages (from black->hepml) (8.1.7)\n",
            "Collecting mypy-extensions>=0.4.3 (from black->hepml)\n",
            "  Downloading mypy_extensions-1.0.0-py3-none-any.whl (4.7 kB)\n",
            "Requirement already satisfied: packaging>=22.0 in /usr/local/lib/python3.10/dist-packages (from black->hepml) (23.2)\n",
            "Collecting pathspec>=0.9.0 (from black->hepml)\n",
            "  Downloading pathspec-0.11.2-py3-none-any.whl (29 kB)\n",
            "Requirement already satisfied: platformdirs>=2 in /usr/local/lib/python3.10/dist-packages (from black->hepml) (3.11.0)\n",
            "Requirement already satisfied: tomli>=1.1.0 in /usr/local/lib/python3.10/dist-packages (from black->hepml) (2.0.1)\n",
            "Requirement already satisfied: typing-extensions>=4.0.1 in /usr/local/lib/python3.10/dist-packages (from black->hepml) (4.5.0)\n",
            "Requirement already satisfied: filelock in /usr/local/lib/python3.10/dist-packages (from gdown->hepml) (3.12.4)\n",
            "Requirement already satisfied: requests[socks] in /usr/local/lib/python3.10/dist-packages (from gdown->hepml) (2.31.0)\n",
            "Requirement already satisfied: six in /usr/local/lib/python3.10/dist-packages (from gdown->hepml) (1.16.0)\n",
            "Requirement already satisfied: beautifulsoup4 in /usr/local/lib/python3.10/dist-packages (from gdown->hepml) (4.11.2)\n",
            "Requirement already satisfied: scipy>=1.5.0 in /usr/local/lib/python3.10/dist-packages (from giotto-tda->hepml) (1.11.3)\n",
            "Requirement already satisfied: joblib>=0.16.0 in /usr/local/lib/python3.10/dist-packages (from giotto-tda->hepml) (1.3.2)\n",
            "Collecting giotto-ph>=0.2.1 (from giotto-tda->hepml)\n",
            "  Downloading giotto_ph-0.2.2-cp310-cp310-manylinux_2_17_x86_64.manylinux2014_x86_64.whl (526 kB)\n",
            "\u001b[2K     \u001b[90m━━━━━━━━━━━━━━━━━━━━━━━━━━━━━━━━━━━━━━━━\u001b[0m \u001b[32m526.4/526.4 kB\u001b[0m \u001b[31m28.0 MB/s\u001b[0m eta \u001b[36m0:00:00\u001b[0m\n",
            "\u001b[?25hCollecting pyflagser>=0.4.3 (from giotto-tda->hepml)\n",
            "  Downloading pyflagser-0.4.5-cp310-cp310-manylinux_2_17_x86_64.manylinux2014_x86_64.whl (452 kB)\n",
            "\u001b[2K     \u001b[90m━━━━━━━━━━━━━━━━━━━━━━━━━━━━━━━━━━━━━━━━\u001b[0m \u001b[32m452.9/452.9 kB\u001b[0m \u001b[31m16.9 MB/s\u001b[0m eta \u001b[36m0:00:00\u001b[0m\n",
            "\u001b[?25hCollecting igraph>=0.9.8 (from giotto-tda->hepml)\n",
            "  Downloading igraph-0.11.2-cp39-abi3-manylinux_2_17_x86_64.manylinux2014_x86_64.whl (3.3 MB)\n",
            "\u001b[2K     \u001b[90m━━━━━━━━━━━━━━━━━━━━━━━━━━━━━━━━━━━━━━━━\u001b[0m \u001b[32m3.3/3.3 MB\u001b[0m \u001b[31m18.2 MB/s\u001b[0m eta \u001b[36m0:00:00\u001b[0m\n",
            "\u001b[?25hRequirement already satisfied: plotly>=4.8.2 in /usr/local/lib/python3.10/dist-packages (from giotto-tda->hepml) (5.15.0)\n",
            "Requirement already satisfied: ipywidgets>=7.5.1 in /usr/local/lib/python3.10/dist-packages (from giotto-tda->hepml) (7.7.1)\n",
            "Requirement already satisfied: threadpoolctl>=2.0.0 in /usr/local/lib/python3.10/dist-packages (from scikit-learn->hepml) (3.2.0)\n",
            "Requirement already satisfied: fastcore>=1.5.27 in /usr/local/lib/python3.10/dist-packages (from nbdev->hepml) (1.5.29)\n",
            "Collecting execnb>=0.1.4 (from nbdev->hepml)\n",
            "  Downloading execnb-0.1.5-py3-none-any.whl (13 kB)\n",
            "Requirement already satisfied: astunparse in /usr/local/lib/python3.10/dist-packages (from nbdev->hepml) (1.6.3)\n",
            "Collecting ghapi>=1.0.3 (from nbdev->hepml)\n",
            "  Downloading ghapi-1.0.4-py3-none-any.whl (58 kB)\n",
            "\u001b[2K     \u001b[90m━━━━━━━━━━━━━━━━━━━━━━━━━━━━━━━━━━━━━━━━\u001b[0m \u001b[32m58.7/58.7 kB\u001b[0m \u001b[31m5.4 MB/s\u001b[0m eta \u001b[36m0:00:00\u001b[0m\n",
            "\u001b[?25hCollecting watchdog (from nbdev->hepml)\n",
            "  Downloading watchdog-3.0.0-py3-none-manylinux2014_x86_64.whl (82 kB)\n",
            "\u001b[2K     \u001b[90m━━━━━━━━━━━━━━━━━━━━━━━━━━━━━━━━━━━━━━━━\u001b[0m \u001b[32m82.1/82.1 kB\u001b[0m \u001b[31m8.9 MB/s\u001b[0m eta \u001b[36m0:00:00\u001b[0m\n",
            "\u001b[?25hCollecting asttokens (from nbdev->hepml)\n",
            "  Downloading asttokens-2.4.1-py2.py3-none-any.whl (27 kB)\n",
            "Requirement already satisfied: PyYAML in /usr/local/lib/python3.10/dist-packages (from nbdev->hepml) (6.0.1)\n",
            "Requirement already satisfied: llvmlite<0.40,>=0.39.0dev0 in /usr/local/lib/python3.10/dist-packages (from numba->hepml) (0.39.1)\n",
            "Requirement already satisfied: setuptools in /usr/local/lib/python3.10/dist-packages (from numba->hepml) (67.7.2)\n",
            "Requirement already satisfied: python-dateutil>=2.8.1 in /usr/local/lib/python3.10/dist-packages (from pandas->hepml) (2.8.2)\n",
            "Requirement already satisfied: pytz>=2020.1 in /usr/local/lib/python3.10/dist-packages (from pandas->hepml) (2023.3.post1)\n",
            "Requirement already satisfied: matplotlib!=3.6.1,>=3.1 in /usr/local/lib/python3.10/dist-packages (from seaborn->hepml) (3.7.1)\n",
            "Requirement already satisfied: ipython in /usr/local/lib/python3.10/dist-packages (from execnb>=0.1.4->nbdev->hepml) (7.34.0)\n",
            "Requirement already satisfied: pip in /usr/local/lib/python3.10/dist-packages (from fastcore>=1.5.27->nbdev->hepml) (23.1.2)\n",
            "Collecting texttable>=1.6.2 (from igraph>=0.9.8->giotto-tda->hepml)\n",
            "  Downloading texttable-1.7.0-py2.py3-none-any.whl (10 kB)\n",
            "Requirement already satisfied: ipykernel>=4.5.1 in /usr/local/lib/python3.10/dist-packages (from ipywidgets>=7.5.1->giotto-tda->hepml) (5.5.6)\n",
            "Requirement already satisfied: ipython-genutils~=0.2.0 in /usr/local/lib/python3.10/dist-packages (from ipywidgets>=7.5.1->giotto-tda->hepml) (0.2.0)\n",
            "Requirement already satisfied: traitlets>=4.3.1 in /usr/local/lib/python3.10/dist-packages (from ipywidgets>=7.5.1->giotto-tda->hepml) (5.7.1)\n",
            "Requirement already satisfied: widgetsnbextension~=3.6.0 in /usr/local/lib/python3.10/dist-packages (from ipywidgets>=7.5.1->giotto-tda->hepml) (3.6.6)\n",
            "Requirement already satisfied: jupyterlab-widgets>=1.0.0 in /usr/local/lib/python3.10/dist-packages (from ipywidgets>=7.5.1->giotto-tda->hepml) (3.0.9)\n",
            "Requirement already satisfied: contourpy>=1.0.1 in /usr/local/lib/python3.10/dist-packages (from matplotlib!=3.6.1,>=3.1->seaborn->hepml) (1.1.1)\n",
            "Requirement already satisfied: cycler>=0.10 in /usr/local/lib/python3.10/dist-packages (from matplotlib!=3.6.1,>=3.1->seaborn->hepml) (0.12.1)\n",
            "Requirement already satisfied: fonttools>=4.22.0 in /usr/local/lib/python3.10/dist-packages (from matplotlib!=3.6.1,>=3.1->seaborn->hepml) (4.43.1)\n",
            "Requirement already satisfied: kiwisolver>=1.0.1 in /usr/local/lib/python3.10/dist-packages (from matplotlib!=3.6.1,>=3.1->seaborn->hepml) (1.4.5)\n",
            "Requirement already satisfied: pyparsing>=2.3.1 in /usr/local/lib/python3.10/dist-packages (from matplotlib!=3.6.1,>=3.1->seaborn->hepml) (3.1.1)\n",
            "Requirement already satisfied: tenacity>=6.2.0 in /usr/local/lib/python3.10/dist-packages (from plotly>=4.8.2->giotto-tda->hepml) (8.2.3)\n",
            "Requirement already satisfied: wheel<1.0,>=0.23.0 in /usr/local/lib/python3.10/dist-packages (from astunparse->nbdev->hepml) (0.41.2)\n",
            "Requirement already satisfied: soupsieve>1.2 in /usr/local/lib/python3.10/dist-packages (from beautifulsoup4->gdown->hepml) (2.5)\n",
            "Requirement already satisfied: charset-normalizer<4,>=2 in /usr/local/lib/python3.10/dist-packages (from requests[socks]->gdown->hepml) (3.3.1)\n",
            "Requirement already satisfied: idna<4,>=2.5 in /usr/local/lib/python3.10/dist-packages (from requests[socks]->gdown->hepml) (3.4)\n",
            "Requirement already satisfied: urllib3<3,>=1.21.1 in /usr/local/lib/python3.10/dist-packages (from requests[socks]->gdown->hepml) (2.0.7)\n",
            "Requirement already satisfied: certifi>=2017.4.17 in /usr/local/lib/python3.10/dist-packages (from requests[socks]->gdown->hepml) (2023.7.22)\n",
            "Requirement already satisfied: PySocks!=1.5.7,>=1.5.6 in /usr/local/lib/python3.10/dist-packages (from requests[socks]->gdown->hepml) (1.7.1)\n",
            "Requirement already satisfied: jupyter-client in /usr/local/lib/python3.10/dist-packages (from ipykernel>=4.5.1->ipywidgets>=7.5.1->giotto-tda->hepml) (6.1.12)\n",
            "Requirement already satisfied: tornado>=4.2 in /usr/local/lib/python3.10/dist-packages (from ipykernel>=4.5.1->ipywidgets>=7.5.1->giotto-tda->hepml) (6.3.2)\n",
            "Collecting jedi>=0.16 (from ipython->execnb>=0.1.4->nbdev->hepml)\n",
            "  Downloading jedi-0.19.1-py2.py3-none-any.whl (1.6 MB)\n",
            "\u001b[2K     \u001b[90m━━━━━━━━━━━━━━━━━━━━━━━━━━━━━━━━━━━━━━━━\u001b[0m \u001b[32m1.6/1.6 MB\u001b[0m \u001b[31m50.5 MB/s\u001b[0m eta \u001b[36m0:00:00\u001b[0m\n",
            "\u001b[?25hRequirement already satisfied: decorator in /usr/local/lib/python3.10/dist-packages (from ipython->execnb>=0.1.4->nbdev->hepml) (4.4.2)\n",
            "Requirement already satisfied: pickleshare in /usr/local/lib/python3.10/dist-packages (from ipython->execnb>=0.1.4->nbdev->hepml) (0.7.5)\n",
            "Requirement already satisfied: prompt-toolkit!=3.0.0,!=3.0.1,<3.1.0,>=2.0.0 in /usr/local/lib/python3.10/dist-packages (from ipython->execnb>=0.1.4->nbdev->hepml) (3.0.39)\n",
            "Requirement already satisfied: pygments in /usr/local/lib/python3.10/dist-packages (from ipython->execnb>=0.1.4->nbdev->hepml) (2.16.1)\n",
            "Requirement already satisfied: backcall in /usr/local/lib/python3.10/dist-packages (from ipython->execnb>=0.1.4->nbdev->hepml) (0.2.0)\n",
            "Requirement already satisfied: matplotlib-inline in /usr/local/lib/python3.10/dist-packages (from ipython->execnb>=0.1.4->nbdev->hepml) (0.1.6)\n",
            "Requirement already satisfied: pexpect>4.3 in /usr/local/lib/python3.10/dist-packages (from ipython->execnb>=0.1.4->nbdev->hepml) (4.8.0)\n",
            "Requirement already satisfied: notebook>=4.4.1 in /usr/local/lib/python3.10/dist-packages (from widgetsnbextension~=3.6.0->ipywidgets>=7.5.1->giotto-tda->hepml) (6.5.5)\n",
            "Requirement already satisfied: parso<0.9.0,>=0.8.3 in /usr/local/lib/python3.10/dist-packages (from jedi>=0.16->ipython->execnb>=0.1.4->nbdev->hepml) (0.8.3)\n",
            "Requirement already satisfied: jinja2 in /usr/local/lib/python3.10/dist-packages (from notebook>=4.4.1->widgetsnbextension~=3.6.0->ipywidgets>=7.5.1->giotto-tda->hepml) (3.1.2)\n",
            "Requirement already satisfied: pyzmq<25,>=17 in /usr/local/lib/python3.10/dist-packages (from notebook>=4.4.1->widgetsnbextension~=3.6.0->ipywidgets>=7.5.1->giotto-tda->hepml) (23.2.1)\n",
            "Requirement already satisfied: argon2-cffi in /usr/local/lib/python3.10/dist-packages (from notebook>=4.4.1->widgetsnbextension~=3.6.0->ipywidgets>=7.5.1->giotto-tda->hepml) (23.1.0)\n",
            "Requirement already satisfied: jupyter-core>=4.6.1 in /usr/local/lib/python3.10/dist-packages (from notebook>=4.4.1->widgetsnbextension~=3.6.0->ipywidgets>=7.5.1->giotto-tda->hepml) (5.4.0)\n",
            "Requirement already satisfied: nbformat in /usr/local/lib/python3.10/dist-packages (from notebook>=4.4.1->widgetsnbextension~=3.6.0->ipywidgets>=7.5.1->giotto-tda->hepml) (5.9.2)\n",
            "Requirement already satisfied: nbconvert>=5 in /usr/local/lib/python3.10/dist-packages (from notebook>=4.4.1->widgetsnbextension~=3.6.0->ipywidgets>=7.5.1->giotto-tda->hepml) (6.5.4)\n",
            "Requirement already satisfied: nest-asyncio>=1.5 in /usr/local/lib/python3.10/dist-packages (from notebook>=4.4.1->widgetsnbextension~=3.6.0->ipywidgets>=7.5.1->giotto-tda->hepml) (1.5.8)\n",
            "Requirement already satisfied: Send2Trash>=1.8.0 in /usr/local/lib/python3.10/dist-packages (from notebook>=4.4.1->widgetsnbextension~=3.6.0->ipywidgets>=7.5.1->giotto-tda->hepml) (1.8.2)\n",
            "Requirement already satisfied: terminado>=0.8.3 in /usr/local/lib/python3.10/dist-packages (from notebook>=4.4.1->widgetsnbextension~=3.6.0->ipywidgets>=7.5.1->giotto-tda->hepml) (0.17.1)\n",
            "Requirement already satisfied: prometheus-client in /usr/local/lib/python3.10/dist-packages (from notebook>=4.4.1->widgetsnbextension~=3.6.0->ipywidgets>=7.5.1->giotto-tda->hepml) (0.17.1)\n",
            "Requirement already satisfied: nbclassic>=0.4.7 in /usr/local/lib/python3.10/dist-packages (from notebook>=4.4.1->widgetsnbextension~=3.6.0->ipywidgets>=7.5.1->giotto-tda->hepml) (1.0.0)\n",
            "Requirement already satisfied: ptyprocess>=0.5 in /usr/local/lib/python3.10/dist-packages (from pexpect>4.3->ipython->execnb>=0.1.4->nbdev->hepml) (0.7.0)\n",
            "Requirement already satisfied: wcwidth in /usr/local/lib/python3.10/dist-packages (from prompt-toolkit!=3.0.0,!=3.0.1,<3.1.0,>=2.0.0->ipython->execnb>=0.1.4->nbdev->hepml) (0.2.8)\n",
            "Requirement already satisfied: jupyter-server>=1.8 in /usr/local/lib/python3.10/dist-packages (from nbclassic>=0.4.7->notebook>=4.4.1->widgetsnbextension~=3.6.0->ipywidgets>=7.5.1->giotto-tda->hepml) (1.24.0)\n",
            "Requirement already satisfied: notebook-shim>=0.2.3 in /usr/local/lib/python3.10/dist-packages (from nbclassic>=0.4.7->notebook>=4.4.1->widgetsnbextension~=3.6.0->ipywidgets>=7.5.1->giotto-tda->hepml) (0.2.3)\n",
            "Requirement already satisfied: lxml in /usr/local/lib/python3.10/dist-packages (from nbconvert>=5->notebook>=4.4.1->widgetsnbextension~=3.6.0->ipywidgets>=7.5.1->giotto-tda->hepml) (4.9.3)\n",
            "Requirement already satisfied: bleach in /usr/local/lib/python3.10/dist-packages (from nbconvert>=5->notebook>=4.4.1->widgetsnbextension~=3.6.0->ipywidgets>=7.5.1->giotto-tda->hepml) (6.1.0)\n",
            "Requirement already satisfied: defusedxml in /usr/local/lib/python3.10/dist-packages (from nbconvert>=5->notebook>=4.4.1->widgetsnbextension~=3.6.0->ipywidgets>=7.5.1->giotto-tda->hepml) (0.7.1)\n",
            "Requirement already satisfied: entrypoints>=0.2.2 in /usr/local/lib/python3.10/dist-packages (from nbconvert>=5->notebook>=4.4.1->widgetsnbextension~=3.6.0->ipywidgets>=7.5.1->giotto-tda->hepml) (0.4)\n",
            "Requirement already satisfied: jupyterlab-pygments in /usr/local/lib/python3.10/dist-packages (from nbconvert>=5->notebook>=4.4.1->widgetsnbextension~=3.6.0->ipywidgets>=7.5.1->giotto-tda->hepml) (0.2.2)\n",
            "Requirement already satisfied: MarkupSafe>=2.0 in /usr/local/lib/python3.10/dist-packages (from nbconvert>=5->notebook>=4.4.1->widgetsnbextension~=3.6.0->ipywidgets>=7.5.1->giotto-tda->hepml) (2.1.3)\n",
            "Requirement already satisfied: mistune<2,>=0.8.1 in /usr/local/lib/python3.10/dist-packages (from nbconvert>=5->notebook>=4.4.1->widgetsnbextension~=3.6.0->ipywidgets>=7.5.1->giotto-tda->hepml) (0.8.4)\n",
            "Requirement already satisfied: nbclient>=0.5.0 in /usr/local/lib/python3.10/dist-packages (from nbconvert>=5->notebook>=4.4.1->widgetsnbextension~=3.6.0->ipywidgets>=7.5.1->giotto-tda->hepml) (0.8.0)\n",
            "Requirement already satisfied: pandocfilters>=1.4.1 in /usr/local/lib/python3.10/dist-packages (from nbconvert>=5->notebook>=4.4.1->widgetsnbextension~=3.6.0->ipywidgets>=7.5.1->giotto-tda->hepml) (1.5.0)\n",
            "Requirement already satisfied: tinycss2 in /usr/local/lib/python3.10/dist-packages (from nbconvert>=5->notebook>=4.4.1->widgetsnbextension~=3.6.0->ipywidgets>=7.5.1->giotto-tda->hepml) (1.2.1)\n",
            "Requirement already satisfied: fastjsonschema in /usr/local/lib/python3.10/dist-packages (from nbformat->notebook>=4.4.1->widgetsnbextension~=3.6.0->ipywidgets>=7.5.1->giotto-tda->hepml) (2.18.1)\n",
            "Requirement already satisfied: jsonschema>=2.6 in /usr/local/lib/python3.10/dist-packages (from nbformat->notebook>=4.4.1->widgetsnbextension~=3.6.0->ipywidgets>=7.5.1->giotto-tda->hepml) (4.19.1)\n",
            "Requirement already satisfied: argon2-cffi-bindings in /usr/local/lib/python3.10/dist-packages (from argon2-cffi->notebook>=4.4.1->widgetsnbextension~=3.6.0->ipywidgets>=7.5.1->giotto-tda->hepml) (21.2.0)\n",
            "Requirement already satisfied: attrs>=22.2.0 in /usr/local/lib/python3.10/dist-packages (from jsonschema>=2.6->nbformat->notebook>=4.4.1->widgetsnbextension~=3.6.0->ipywidgets>=7.5.1->giotto-tda->hepml) (23.1.0)\n",
            "Requirement already satisfied: jsonschema-specifications>=2023.03.6 in /usr/local/lib/python3.10/dist-packages (from jsonschema>=2.6->nbformat->notebook>=4.4.1->widgetsnbextension~=3.6.0->ipywidgets>=7.5.1->giotto-tda->hepml) (2023.7.1)\n",
            "Requirement already satisfied: referencing>=0.28.4 in /usr/local/lib/python3.10/dist-packages (from jsonschema>=2.6->nbformat->notebook>=4.4.1->widgetsnbextension~=3.6.0->ipywidgets>=7.5.1->giotto-tda->hepml) (0.30.2)\n",
            "Requirement already satisfied: rpds-py>=0.7.1 in /usr/local/lib/python3.10/dist-packages (from jsonschema>=2.6->nbformat->notebook>=4.4.1->widgetsnbextension~=3.6.0->ipywidgets>=7.5.1->giotto-tda->hepml) (0.10.6)\n",
            "Requirement already satisfied: anyio<4,>=3.1.0 in /usr/local/lib/python3.10/dist-packages (from jupyter-server>=1.8->nbclassic>=0.4.7->notebook>=4.4.1->widgetsnbextension~=3.6.0->ipywidgets>=7.5.1->giotto-tda->hepml) (3.7.1)\n",
            "Requirement already satisfied: websocket-client in /usr/local/lib/python3.10/dist-packages (from jupyter-server>=1.8->nbclassic>=0.4.7->notebook>=4.4.1->widgetsnbextension~=3.6.0->ipywidgets>=7.5.1->giotto-tda->hepml) (1.6.4)\n",
            "Requirement already satisfied: cffi>=1.0.1 in /usr/local/lib/python3.10/dist-packages (from argon2-cffi-bindings->argon2-cffi->notebook>=4.4.1->widgetsnbextension~=3.6.0->ipywidgets>=7.5.1->giotto-tda->hepml) (1.16.0)\n",
            "Requirement already satisfied: webencodings in /usr/local/lib/python3.10/dist-packages (from bleach->nbconvert>=5->notebook>=4.4.1->widgetsnbextension~=3.6.0->ipywidgets>=7.5.1->giotto-tda->hepml) (0.5.1)\n",
            "Requirement already satisfied: sniffio>=1.1 in /usr/local/lib/python3.10/dist-packages (from anyio<4,>=3.1.0->jupyter-server>=1.8->nbclassic>=0.4.7->notebook>=4.4.1->widgetsnbextension~=3.6.0->ipywidgets>=7.5.1->giotto-tda->hepml) (1.3.0)\n",
            "Requirement already satisfied: exceptiongroup in /usr/local/lib/python3.10/dist-packages (from anyio<4,>=3.1.0->jupyter-server>=1.8->nbclassic>=0.4.7->notebook>=4.4.1->widgetsnbextension~=3.6.0->ipywidgets>=7.5.1->giotto-tda->hepml) (1.1.3)\n",
            "Requirement already satisfied: pycparser in /usr/local/lib/python3.10/dist-packages (from cffi>=1.0.1->argon2-cffi-bindings->argon2-cffi->notebook>=4.4.1->widgetsnbextension~=3.6.0->ipywidgets>=7.5.1->giotto-tda->hepml) (2.21)\n",
            "Building wheels for collected packages: wget\n",
            "  Building wheel for wget (setup.py) ... \u001b[?25l\u001b[?25hdone\n",
            "  Created wheel for wget: filename=wget-3.2-py3-none-any.whl size=9655 sha256=6fe234134c5e72a31939f2a72a171ea303bf669e065f1da3a22d05c9039f2279\n",
            "  Stored in directory: /root/.cache/pip/wheels/8b/f1/7f/5c94f0a7a505ca1c81cd1d9208ae2064675d97582078e6c769\n",
            "Successfully built wget\n",
            "Installing collected packages: wget, texttable, watchdog, pathspec, mypy-extensions, jedi, igraph, asttokens, pyflagser, ghapi, black, giotto-ph, execnb, nbdev, giotto-tda, hepml\n",
            "Successfully installed asttokens-2.4.1 black-23.10.1 execnb-0.1.5 ghapi-1.0.4 giotto-ph-0.2.2 giotto-tda-0.6.0 hepml-0.0.12 igraph-0.11.2 jedi-0.19.1 mypy-extensions-1.0.0 nbdev-2.3.13 pathspec-0.11.2 pyflagser-0.4.5 texttable-1.7.0 watchdog-3.0.0 wget-3.2\n"
          ]
        }
      ],
      "source": [
        "# uncomment this if running locally or on Google Colab\n",
        "!pip install --upgrade hepml"
      ]
    },
    {
      "cell_type": "code",
      "execution_count": null,
      "metadata": {
        "id": "rZqjGPa0M_AL"
      },
      "outputs": [],
      "source": [
        "# data wrangling\n",
        "import pandas as pd\n",
        "import numpy as np\n",
        "from pathlib import Path\n",
        "from hepml.core import display_large, download_dataset\n",
        "\n",
        "# data viz\n",
        "import matplotlib.pyplot as plt\n",
        "from sklearn.tree import plot_tree\n",
        "\n",
        "# ml magic\n",
        "from sklearn.ensemble import RandomForestClassifier\n",
        "from sklearn.model_selection import train_test_split\n",
        "from sklearn.metrics import roc_auc_score"
      ]
    },
    {
      "cell_type": "markdown",
      "metadata": {
        "id": "ZiDt8V_nM_AM"
      },
      "source": [
        "## Load the data"
      ]
    },
    {
      "cell_type": "markdown",
      "metadata": {
        "id": "F6lWeUyIM_AM"
      },
      "source": [
        "As usual, we can download our dataset by using our `download_dataset` helper function:"
      ]
    },
    {
      "cell_type": "code",
      "execution_count": 3,
      "metadata": {
        "id": "IbW51EaVM_AM",
        "outputId": "9a8625ef-45e0-40e8-a9a1-3b53c67a4d44",
        "colab": {
          "base_uri": "https://localhost:8080/",
          "height": 176
        }
      },
      "outputs": [
        {
          "output_type": "error",
          "ename": "NameError",
          "evalue": "ignored",
          "traceback": [
            "\u001b[0;31m---------------------------------------------------------------------------\u001b[0m",
            "\u001b[0;31mNameError\u001b[0m                                 Traceback (most recent call last)",
            "\u001b[0;32m<ipython-input-3-c09ad84c2430>\u001b[0m in \u001b[0;36m<cell line: 1>\u001b[0;34m()\u001b[0m\n\u001b[0;32m----> 1\u001b[0;31m \u001b[0mdownload_dataset\u001b[0m\u001b[0;34m(\u001b[0m\u001b[0;34m\"susy_sample.feather\"\u001b[0m\u001b[0;34m)\u001b[0m\u001b[0;34m\u001b[0m\u001b[0;34m\u001b[0m\u001b[0m\n\u001b[0m",
            "\u001b[0;31mNameError\u001b[0m: name 'download_dataset' is not defined"
          ]
        }
      ],
      "source": [
        "download_dataset(\"susy_sample.feather\")"
      ]
    },
    {
      "cell_type": "code",
      "execution_count": null,
      "metadata": {
        "id": "7xvIK1wYM_AM"
      },
      "outputs": [],
      "source": [
        "DATA = Path(\"../data\")\n",
        "!ls {DATA}"
      ]
    },
    {
      "cell_type": "markdown",
      "metadata": {
        "id": "CkSR4ir4M_AN"
      },
      "source": [
        "With pathlib it is a simple matter to define the filepath to the dataset, and since the file is in Feather format we can load it as a `pandas.DataFrame` as follows:"
      ]
    },
    {
      "cell_type": "code",
      "execution_count": null,
      "metadata": {
        "id": "hIIFzDrSM_AN"
      },
      "outputs": [],
      "source": [
        "susy_sample = pd.read_feather(DATA / \"susy_sample.feather\")\n",
        "print(susy_sample.head())\n"
      ]
    },
    {
      "cell_type": "code",
      "execution_count": null,
      "metadata": {
        "id": "-fXEAiecM_AN"
      },
      "outputs": [],
      "source": [
        "# sanity check on number of events\n",
        "assert len(susy_sample) == 100_000"
      ]
    },
    {
      "cell_type": "markdown",
      "metadata": {
        "id": "KsxDZU73M_AN"
      },
      "source": [
        "Next we create the feature matrix $X$ and target vector $y$, along with the training and validation sets:"
      ]
    },
    {
      "cell_type": "code",
      "execution_count": null,
      "metadata": {
        "id": "PWcD3wJPM_AN",
        "outputId": "0e66130d-a94b-4f0f-c93a-370c9e718818",
        "colab": {
          "base_uri": "https://localhost:8080/"
        }
      },
      "outputs": [
        {
          "output_type": "stream",
          "name": "stdout",
          "text": [
            "Dataset split: 80000 train rows + 20000 valid rows\n"
          ]
        }
      ],
      "source": [
        "X = susy_sample.drop(\"signal\", axis=1)\n",
        "y = susy_sample[\"signal\"]\n",
        "\n",
        "X_train, X_valid, y_train, y_valid = train_test_split(X, y, test_size=0.2, random_state=42)\n",
        "\n",
        "print(f\"Dataset split: {len(X_train)} train rows + {len(X_valid)} valid rows\")\n",
        "\n",
        "# pick 2 features to experiment with\n",
        "X_train_sub = X_train[[\"missing energy magnitude\", \"lepton 1 pT\"]].copy()\n",
        "X_valid_sub = X_valid[[\"missing energy magnitude\", \"lepton 1 pT\"]].copy()"
      ]
    },
    {
      "cell_type": "markdown",
      "metadata": {
        "id": "roAycY2SM_AN"
      },
      "source": [
        "## Basic classes and functions"
      ]
    },
    {
      "cell_type": "markdown",
      "metadata": {
        "id": "JpeMepseM_AN"
      },
      "source": [
        "### Tree ensemble"
      ]
    },
    {
      "cell_type": "markdown",
      "metadata": {
        "id": "rQwcveBBM_AN"
      },
      "source": [
        "To get started, we need a data structure that will represent an ensemble of decision trees. As a first guess, the variables we'll need to initialise our ensemble might include:\n",
        "\n",
        "* `X`: the feature matrix\n",
        "* `y`: the target vector\n",
        "* `n_trees`: how many trees to include in the forest\n",
        "* `sample_size`: how big we want each sample to be\n",
        "* `min_samples_leaf`: some optional hyperparameter that controls the minimum number of samples required to be at a leaf node\n",
        "\n",
        "With these considerations, let's go ahead and build our ensemble class"
      ]
    },
    {
      "cell_type": "code",
      "execution_count": null,
      "metadata": {
        "id": "QOqmz6iRM_AN"
      },
      "outputs": [],
      "source": [
        "class TreeEnsemble:\n",
        "    # instance attributes\n",
        "    def __init__(\n",
        "        self, X: np.ndarray, y: np.ndarray, n_trees: int, sample_size: int, min_samples_leaf: int = 5,\n",
        "    ):\n",
        "        # use constant random seed for testing\n",
        "        np.random.seed(42)\n",
        "        self.X = X\n",
        "        self.y = y\n",
        "        self.n_trees = n_trees\n",
        "        self.sample_size = sample_size\n",
        "        self.min_samples_leaf = min_samples_leaf\n",
        "\n",
        "        self.trees = [self.create_tree() for i in range(n_trees)]\n",
        "\n",
        "    # instance method\n",
        "    def create_tree(self):\n",
        "        # grab random subsample without replacement - no bootstrapping!\n",
        "        random_indices = np.random.permutation(len(self.y))[: self.sample_size]\n",
        "        return DecisionTree(\n",
        "            self.X.iloc[random_indices], self.y.iloc[random_indices], min_samples_leaf=self.min_samples_leaf,\n",
        "        )\n",
        "\n",
        "    # instance method\n",
        "    def predict(self, X):\n",
        "        return np.mean([t.predict(X) for t in self.trees], axis=0)"
      ]
    },
    {
      "cell_type": "markdown",
      "metadata": {
        "id": "eypTLPNPM_AN"
      },
      "source": [
        "> Note: All classes in Python create objects, and all objects contain properties called attributes. We use the `__init__()` method to initialize an object’s initial attributes by giving them their default value. This method must have at least one argument as well as the `self` variable, which refers to the object itself (e.g., `TreeEnsemble`)."
      ]
    },
    {
      "cell_type": "markdown",
      "metadata": {
        "id": "X8krfCrLM_AN"
      },
      "source": [
        "Next let's try to instantiate this class:"
      ]
    },
    {
      "cell_type": "code",
      "execution_count": null,
      "metadata": {
        "id": "u_zvlqbsM_AO"
      },
      "outputs": [],
      "source": [
        "rf = TreeEnsemble(X_train_sub, y_train, n_trees=10, sample_size=1000, min_samples_leaf=3)"
      ]
    },
    {
      "cell_type": "markdown",
      "metadata": {
        "id": "pTlktWVWM_AO"
      },
      "source": [
        "Oops! Our `TreeEnsemble` assumes we have a class called `DecisionTree`, so let's create a minimal version that will allow us to instantiate it:"
      ]
    },
    {
      "cell_type": "code",
      "execution_count": null,
      "metadata": {
        "id": "zUXLRZsDM_AO"
      },
      "outputs": [],
      "source": [
        "class DecisionTree:\n",
        "    def __init__(self, X: np.ndarray, y: np.ndarray, indices=None, min_samples_leaf: int = 5):\n",
        "        self.X = X\n",
        "        self.y = y\n",
        "        self.indices = indices\n",
        "        self.min_samples_leaf = min_samples_leaf"
      ]
    },
    {
      "cell_type": "markdown",
      "metadata": {
        "id": "6oQgCU8KM_AO"
      },
      "source": [
        "### Decision tree"
      ]
    },
    {
      "cell_type": "markdown",
      "metadata": {
        "id": "7yjDUY6gM_AO"
      },
      "source": [
        "Our `DecisionTree` class doesn't do anything yet, so let's add some logic to flesh it out. In addition to passing `X`, `y`, and `min_samples_leaf` to the constructor, we also need to keep track of which row indices are passed to the left- and right-hand sides of the tree. Since the root node contains all the rows, we can use `None` as a default and set `indices` to the length of `y`:"
      ]
    },
    {
      "cell_type": "code",
      "execution_count": null,
      "metadata": {
        "id": "W-od40mKM_AO"
      },
      "outputs": [],
      "source": [
        "class DecisionTree:\n",
        "    def __init__(self, X: np.ndarray, y: np.ndarray, indices: np.ndarray = None, min_samples_leaf: int = 5):\n",
        "        # use all rows for root node\n",
        "        if indices is None:\n",
        "            indices = np.arange(len(y))\n",
        "\n",
        "        self.X = X\n",
        "        self.y = y\n",
        "        self.indices = indices\n",
        "        self.min_samples_leaf = min_samples_leaf\n",
        "\n",
        "        self.n_samples, self.n_features = len(indices), X.shape[1]\n",
        "        self.value = self.calculate_class_probabilities(self.y, self.indices)\n",
        "        self.gini = self.gini_impurity(self.y)\n",
        "        self.score = float(\"inf\")\n",
        "        self.find_feature_split()\n",
        "\n",
        "    # this just does one decision - we'll make it recursive later\n",
        "    def find_feature_split(self):\n",
        "        for i in range(self.n_features):\n",
        "            self.find_better_split(i)\n",
        "\n",
        "    # we'll write this later!\n",
        "    def find_better_split(self, feature_index):\n",
        "        pass\n",
        "\n",
        "    # we'll write this later!\n",
        "    def calculate_class_probabilities(self, y, indices):\n",
        "        pass\n",
        "\n",
        "    # we'll write this later!\n",
        "    def gini_impurity(self, y):\n",
        "        pass\n",
        "\n",
        "    @property\n",
        "    def split_name(self):\n",
        "        return self.X.columns[self.feature_index]\n",
        "\n",
        "    @property\n",
        "    def split_feature(self):\n",
        "        return self.X.values[self.indices, self.feature_index]\n",
        "\n",
        "    @property\n",
        "    def is_leaf(self):\n",
        "        return self.score == float(\"inf\")\n",
        "\n",
        "    # convert object to string - see https://dbader.org/blog/python-repr-vs-str\n",
        "    def __repr__(self):\n",
        "        s = f\"n_samples: {self.n_samples}; value: {self.value}; gini: {self.gini}\"\n",
        "        if not self.is_leaf:\n",
        "            s += f\"; score: {self.score}; feature: {self.split_name}; split_point: {self.split}\"\n",
        "        return s"
      ]
    },
    {
      "cell_type": "markdown",
      "metadata": {
        "id": "tSTWnjmTM_AO"
      },
      "source": [
        "Next let's check we can instantiate the ensemble and access the first decision tree:"
      ]
    },
    {
      "cell_type": "code",
      "execution_count": null,
      "metadata": {
        "id": "sTLfSyalM_AO",
        "outputId": "fe0e484a-8bde-411c-b475-43c236e92797",
        "colab": {
          "base_uri": "https://localhost:8080/"
        }
      },
      "outputs": [
        {
          "output_type": "execute_result",
          "data": {
            "text/plain": [
              "n_samples: 1000; value: None; gini: None"
            ]
          },
          "metadata": {},
          "execution_count": 19
        }
      ],
      "source": [
        "rf = TreeEnsemble(X_train_sub, y_train, n_trees=10, sample_size=1000, min_samples_leaf=3)\n",
        "rf.trees[0]"
      ]
    },
    {
      "cell_type": "markdown",
      "metadata": {
        "id": "kASYdNzkM_AO"
      },
      "source": [
        "It works! Our `__repr__` method now returns useful information about the attributes of the class instance, but we still need to implement methods for the class probabilities and Gini impurity. Let's consider each one in turn."
      ]
    },
    {
      "cell_type": "code",
      "execution_count": null,
      "metadata": {
        "id": "snC8_bNwM_AO",
        "outputId": "6b36324e-1ce5-4996-b1f5-98965e6b6c56",
        "colab": {
          "base_uri": "https://localhost:8080/"
        }
      },
      "outputs": [
        {
          "output_type": "execute_result",
          "data": {
            "text/plain": [
              "[n_samples: 1000; value: None; gini: None,\n",
              " n_samples: 1000; value: None; gini: None,\n",
              " n_samples: 1000; value: None; gini: None,\n",
              " n_samples: 1000; value: None; gini: None,\n",
              " n_samples: 1000; value: None; gini: None,\n",
              " n_samples: 1000; value: None; gini: None,\n",
              " n_samples: 1000; value: None; gini: None,\n",
              " n_samples: 1000; value: None; gini: None,\n",
              " n_samples: 1000; value: None; gini: None,\n",
              " n_samples: 1000; value: None; gini: None]"
            ]
          },
          "metadata": {},
          "execution_count": 20
        }
      ],
      "source": [
        "rf = TreeEnsemble(X_train_sub, y_train, n_trees=10, sample_size=1000, min_samples_leaf=3)\n",
        "# test we can access attributes\n",
        "rf.trees"
      ]
    },
    {
      "cell_type": "markdown",
      "metadata": {
        "id": "sjQbzODzM_AO"
      },
      "source": [
        "### Class probabilities"
      ]
    },
    {
      "cell_type": "markdown",
      "metadata": {
        "id": "B4eoTkZGM_AO"
      },
      "source": [
        "In order to average the predictions across multiple trees in our forest, we need know what percentage of a given leaf node contains signal events and what percentage contains background. A simple way to do that is via the `np.unique` method, e.g."
      ]
    },
    {
      "cell_type": "code",
      "execution_count": null,
      "metadata": {
        "id": "IqAdL_OWM_AO",
        "outputId": "4ddd9518-7be6-4155-e1df-a1c6532af3a7",
        "colab": {
          "base_uri": "https://localhost:8080/"
        }
      },
      "outputs": [
        {
          "output_type": "execute_result",
          "data": {
            "text/plain": [
              "(array([0., 1.]), array([43374, 36626]))"
            ]
          },
          "metadata": {},
          "execution_count": 21
        }
      ],
      "source": [
        "# returns tuple - (class_labels, class_counts)\n",
        "np.unique(y_train, return_counts=True)"
      ]
    },
    {
      "cell_type": "markdown",
      "metadata": {
        "id": "XQdtXXeQM_AO"
      },
      "source": [
        "This is not quite what we need because it just provides the raw counts, so let's normalise them as follows:"
      ]
    },
    {
      "cell_type": "code",
      "execution_count": null,
      "metadata": {
        "id": "hbCNksjNM_AO",
        "outputId": "db57fb8f-c7b4-4bba-f872-88963400c832",
        "colab": {
          "base_uri": "https://localhost:8080/"
        }
      },
      "outputs": [
        {
          "output_type": "execute_result",
          "data": {
            "text/plain": [
              "array([0.542175, 0.457825])"
            ]
          },
          "metadata": {},
          "execution_count": 22
        }
      ],
      "source": [
        "np.unique(y_train, return_counts=True)[1] / len(y_train)"
      ]
    },
    {
      "cell_type": "markdown",
      "metadata": {
        "id": "Z6jsuqW0M_AP"
      },
      "source": [
        "We can wrap this in a single function that also handles the cases where we only have one sample in a leaf node:"
      ]
    },
    {
      "cell_type": "code",
      "execution_count": null,
      "metadata": {
        "id": "G_4hQlWHM_AP"
      },
      "outputs": [],
      "source": [
        "def calculate_class_probabilities(self, y: pd.Series, indices: np.ndarray):\n",
        "    probs = np.unique(y.iloc[indices], return_counts=True)[1] / len(y.iloc[indices])\n",
        "\n",
        "    # handle edge case when leaf only contains one sample\n",
        "    if len(probs) == 1:\n",
        "        if int(y.iloc[indices].values[0]) == 0:\n",
        "            value = np.array([1.0, 0.0])\n",
        "        else:\n",
        "            value = np.array([0.0, 1.0])\n",
        "    else:\n",
        "        value = probs\n",
        "\n",
        "    return value"
      ]
    },
    {
      "cell_type": "markdown",
      "metadata": {
        "id": "UMcGFy8LM_AP"
      },
      "source": [
        "We can now use this function to override our class method as follows:"
      ]
    },
    {
      "cell_type": "code",
      "execution_count": null,
      "metadata": {
        "id": "Zb9jwSAoM_AP"
      },
      "outputs": [],
      "source": [
        "DecisionTree.calculate_class_probabilities = calculate_class_probabilities"
      ]
    },
    {
      "cell_type": "markdown",
      "metadata": {
        "id": "ctgrcCoFM_AP"
      },
      "source": [
        "Finally, let's check that the function works as intended:"
      ]
    },
    {
      "cell_type": "code",
      "execution_count": null,
      "metadata": {
        "id": "ThWTojGhM_AP",
        "outputId": "6c316717-7ad3-4479-ac37-c3e4ec0fc623",
        "colab": {
          "base_uri": "https://localhost:8080/"
        }
      },
      "outputs": [
        {
          "output_type": "execute_result",
          "data": {
            "text/plain": [
              "n_samples: 1000; value: [0.516 0.484]; gini: None"
            ]
          },
          "metadata": {},
          "execution_count": 25
        }
      ],
      "source": [
        "rf = TreeEnsemble(X_train_sub, y_train, n_trees=10, sample_size=1000, min_samples_leaf=3)\n",
        "rf.trees[0]"
      ]
    },
    {
      "cell_type": "markdown",
      "metadata": {
        "id": "Pn2xiVEnM_AP"
      },
      "source": [
        "### Gini impurity"
      ]
    },
    {
      "cell_type": "markdown",
      "metadata": {
        "id": "CeajiQ_wM_AP"
      },
      "source": [
        "The next piece of information we need to calculate is the Gini impurity at a given node in the tree. Recall that the formula for Gini impurity is\n",
        "\n",
        "$$ G_i = 1 - \\sum_{k=1}^n p_{i,k}^2 $$\n",
        "\n",
        "where $p_{i,k}$ is the ratio of class $k$ examples among the training examples in the ith node. We can get the values of $p_{i,k}$ by using the `np.unique` method again, e.g."
      ]
    },
    {
      "cell_type": "code",
      "execution_count": null,
      "metadata": {
        "id": "8yqbPU1UM_AP",
        "outputId": "87f8da42-b55e-48e0-cc6d-583d3ae18e0e",
        "colab": {
          "base_uri": "https://localhost:8080/"
        }
      },
      "outputs": [
        {
          "output_type": "stream",
          "name": "stdout",
          "text": [
            "Gini pure = 0.0; Gini mixed = 0.5\n"
          ]
        }
      ],
      "source": [
        "y_pure = np.array([1, 1, 1, 1])\n",
        "y_mixed = np.array([1, 0, 1, 0])\n",
        "\n",
        "gini_pure = 1.0 - np.sum((np.unique(y_pure, return_counts=True)[1] / len(y_pure)) ** 2)\n",
        "gini_mixed = 1.0 - np.sum((np.unique(y_mixed, return_counts=True)[1] / len(y_mixed)) ** 2)\n",
        "\n",
        "print(f\"Gini pure = {gini_pure}; Gini mixed = {gini_mixed}\")"
      ]
    },
    {
      "cell_type": "markdown",
      "metadata": {
        "id": "6OETI6d_M_AP"
      },
      "source": [
        "Let's wrap this logic in a function and override the one defined in our `DecisionTree` class:"
      ]
    },
    {
      "cell_type": "code",
      "execution_count": null,
      "metadata": {
        "id": "BxwPoHbLM_AP"
      },
      "outputs": [],
      "source": [
        "def gini_impurity(self, y):\n",
        "    return 1.0 - np.sum((np.unique(y, return_counts=True)[1] / len(y)) ** 2)\n",
        "\n",
        "DecisionTree.gini_impurity = gini_impurity"
      ]
    },
    {
      "cell_type": "markdown",
      "metadata": {
        "id": "UO2YUmFVM_AP"
      },
      "source": [
        "As before, we do a sanity check to see whether it works:"
      ]
    },
    {
      "cell_type": "code",
      "execution_count": null,
      "metadata": {
        "id": "9u9AuvbwM_AP",
        "outputId": "08b0801f-9137-490f-877b-009a8643c34c",
        "colab": {
          "base_uri": "https://localhost:8080/"
        }
      },
      "outputs": [
        {
          "output_type": "execute_result",
          "data": {
            "text/plain": [
              "n_samples: 1000; value: [0.516 0.484]; gini: 0.49948800000000004"
            ]
          },
          "metadata": {},
          "execution_count": 28
        }
      ],
      "source": [
        "rf = TreeEnsemble(X_train_sub, y_train, n_trees=10, sample_size=1000, min_samples_leaf=3)\n",
        "rf.trees[0]"
      ]
    },
    {
      "cell_type": "markdown",
      "metadata": {
        "id": "iz2YsfBIM_AP"
      },
      "source": [
        "🎉🎉🎉"
      ]
    },
    {
      "cell_type": "markdown",
      "metadata": {
        "id": "CkP9SxCdM_AP"
      },
      "source": [
        "## Finding the best split on a single branch"
      ]
    },
    {
      "cell_type": "markdown",
      "metadata": {
        "id": "Q4OzxTp7M_AP"
      },
      "source": [
        "Now that we are able to calculate the probabilities and Gini impurity of a Decision Tree's node, the next step is to implement the logic for the `find_better_split` function. To test that we are on the right track, let us first feed the same random sample from our ensemble to scikit-learns' `RandomForestClassifier`:"
      ]
    },
    {
      "cell_type": "code",
      "execution_count": null,
      "metadata": {
        "id": "HZc1i5g7M_AP",
        "outputId": "5f370fac-39e2-4011-8fff-36aa8b09e294",
        "colab": {
          "base_uri": "https://localhost:8080/"
        }
      },
      "outputs": [
        {
          "output_type": "execute_result",
          "data": {
            "text/plain": [
              "Index(['missing energy magnitude', 'lepton 1 pT'], dtype='object')"
            ]
          },
          "metadata": {},
          "execution_count": 29
        }
      ],
      "source": [
        "# create ensemble with 1 tree\n",
        "rf = TreeEnsemble(X_train_sub, y_train, n_trees=1, sample_size=1000)\n",
        "# extract DecisionTree instance\n",
        "tree = rf.trees[0]\n",
        "# extract sample associated with the Decision Tree\n",
        "X_samp, y_samp = tree.X, tree.y\n",
        "X_samp.columns"
      ]
    },
    {
      "cell_type": "code",
      "execution_count": null,
      "metadata": {
        "id": "-WHuuZbNM_AQ",
        "outputId": "f036dc93-7b0c-4c43-d7fc-aff1457c6ea1",
        "colab": {
          "base_uri": "https://localhost:8080/"
        }
      },
      "outputs": [
        {
          "output_type": "execute_result",
          "data": {
            "text/plain": [
              "RandomForestClassifier(bootstrap=False, max_depth=1, max_features=None,\n",
              "                       n_estimators=1, random_state=42)"
            ]
          },
          "metadata": {},
          "execution_count": 30
        }
      ],
      "source": [
        "# create Decision Tree with same configuration as our algorithm\n",
        "model = RandomForestClassifier(n_estimators=1, max_depth=1, bootstrap=False, random_state=42, max_features=None)\n",
        "model.fit(X_samp, y_samp)"
      ]
    },
    {
      "cell_type": "markdown",
      "metadata": {
        "id": "hbCjrjY8M_AQ"
      },
      "source": [
        "To aid with the comarison, let's also create a plotting function so we can visualise the nodes of our decision trees:"
      ]
    },
    {
      "cell_type": "code",
      "execution_count": null,
      "metadata": {
        "id": "ei0TDOIDM_AQ"
      },
      "outputs": [],
      "source": [
        "def draw_tree(fitted_model):\n",
        "    # get column names\n",
        "    feature_names = X_train_sub.columns\n",
        "    # define class names\n",
        "    class_names = [\"Background\", \"Signal\"]\n",
        "    fig, ax = plt.subplots(figsize=(30, 10))\n",
        "    # generate tree plot\n",
        "    plot_tree(\n",
        "        fitted_model.estimators_[0],\n",
        "        filled=True,\n",
        "        feature_names=feature_names,\n",
        "        class_names=class_names,\n",
        "        ax=ax,\n",
        "        fontsize=18,\n",
        "        proportion=True,\n",
        "    )\n",
        "    plt.show()"
      ]
    },
    {
      "cell_type": "code",
      "execution_count": null,
      "metadata": {
        "id": "1iQswisKM_AQ",
        "outputId": "fd7b8192-2295-47a3-a893-b27caa9dd054"
      },
      "outputs": [
        {
          "data": {
            "image/png": "[encoded data removed]",
            "text/plain": [
              "<Figure size 2160x720 with 1 Axes>"
            ]
          },
          "metadata": {
            "needs_background": "light"
          },
          "output_type": "display_data"
        }
      ],
      "source": [
        "draw_tree(model)"
      ]
    },
    {
      "cell_type": "markdown",
      "metadata": {
        "id": "GV9xItWcM_AQ"
      },
      "source": [
        "To recreate this split, recall that scikit-learn uses the Classification And Regression Tree (CART) algorithm to train Decision Trees. Here the key idea is to search for the pair `(feature, split_point)` the produces the purest subsets, as measured by their Gini impurity. The function to minimise is given by\n",
        "\n",
        "$$ J(k, t_k) = \\frac{m_\\mathrm{left}}{m} G_\\mathrm{left} + \\frac{m_\\mathrm{right}}{m}G_\\mathrm{right} $$\n",
        "\n",
        "where $k$ is a single feature, $t_k$ is the split point (e.g. \"missing energy magnitude $\\leq$ 1.14), $m_\\mathrm{left/right}$ is the number of examples in the left/right subset, and $G_\\mathrm{left/right}$ is the Gini impurity. Thus for each feature $k$, the strategy will be to calculate $J(k, t_k)$ for every possible split point $t_k$ and update the score if it less than what we have seen already. Implemented as code, the result could look like:"
      ]
    },
    {
      "cell_type": "code",
      "execution_count": null,
      "metadata": {
        "id": "IG2ciR5PM_AQ"
      },
      "outputs": [],
      "source": [
        "def find_better_split(self, feature_index):\n",
        "    # get sample for a single feature\n",
        "    X, y = self.X.values[self.indices, feature_index], self.y.iloc[self.indices]\n",
        "\n",
        "    for t in range(self.n_samples):\n",
        "        # create boolean masks for samples above / below the split point t\n",
        "        lhs = X <= X[t]\n",
        "        rhs = X > X[t]\n",
        "\n",
        "        # continue if stopping criterion not reached\n",
        "        if rhs.sum() < self.min_samples_leaf or lhs.sum() < self.min_samples_leaf:\n",
        "            continue\n",
        "\n",
        "        # calculate Gini impurities for left and right nodes\n",
        "        lhs_gini = gini_impurity(self, y[lhs])\n",
        "        rhs_gini = gini_impurity(self, y[rhs])\n",
        "        # calculate score for current split point\n",
        "        curr_score = lhs_gini * len(y[lhs]) / len(y) + rhs_gini * len(y[rhs]) / len(y)\n",
        "        # update attributes if new score is smaller than old\n",
        "        if curr_score < self.score:\n",
        "            self.feature_index, self.score, self.split, self.gini = (\n",
        "                feature_index,\n",
        "                curr_score,\n",
        "                X[t],\n",
        "                gini_impurity(self, y),\n",
        "            )"
      ]
    },
    {
      "cell_type": "markdown",
      "metadata": {
        "id": "7kNmMVfEM_AQ"
      },
      "source": [
        "Let's check this works by first calculating the best split point for `lepton 1 pT`:"
      ]
    },
    {
      "cell_type": "code",
      "execution_count": null,
      "metadata": {
        "id": "8YV-_gsBM_AQ",
        "outputId": "5c534469-0844-473b-bdf9-6496eb7a41a8",
        "colab": {
          "base_uri": "https://localhost:8080/"
        }
      },
      "outputs": [
        {
          "output_type": "stream",
          "name": "stdout",
          "text": [
            "438 ms ± 10.8 ms per loop (mean ± std. dev. of 7 runs, 1 loop each)\n"
          ]
        },
        {
          "output_type": "execute_result",
          "data": {
            "text/plain": [
              "n_samples: 1000; value: [0.516 0.484]; gini: 0.49948800000000004; score: 0.406274337005304; feature: lepton 1 pT; split_point: 0.8724983930587769"
            ]
          },
          "metadata": {},
          "execution_count": 34
        }
      ],
      "source": [
        "%timeit find_better_split(tree, feature_index=1)\n",
        "tree"
      ]
    },
    {
      "cell_type": "markdown",
      "metadata": {
        "id": "69J-B6nzM_AQ"
      },
      "source": [
        "Similarly for `missing energy magnitude` we find:"
      ]
    },
    {
      "cell_type": "code",
      "execution_count": null,
      "metadata": {
        "id": "-XdYG9v1M_AQ",
        "outputId": "97196932-720e-4a03-f813-59d7d25d1f72"
      },
      "outputs": [
        {
          "data": {
            "text/plain": [
              "n_samples: 1000; value: [0.516 0.484]; gini: 0.49948800000000004; score: 0.3864820927729048; feature: missing energy magnitude; split_point: 1.1392959356307983"
            ]
          },
          "execution_count": null,
          "metadata": {},
          "output_type": "execute_result"
        }
      ],
      "source": [
        "find_better_split(tree, feature_index=0)\n",
        "tree"
      ]
    },
    {
      "cell_type": "markdown",
      "metadata": {
        "id": "yK6CO5KyM_AQ"
      },
      "source": [
        "It works! We see that `missing energy magnitude` has a lower score (i.e. cost $J$) than `lepton 1 pT`, and produces class probabilities and a Gini impurity consistent with scikit-learn. The downside is that our implementation is _slow_ - we can do better."
      ]
    },
    {
      "cell_type": "markdown",
      "metadata": {
        "id": "HyfN7XiAM_AQ"
      },
      "source": [
        "### Speeding things up"
      ]
    },
    {
      "cell_type": "markdown",
      "metadata": {
        "id": "wrlYB91EM_AQ"
      },
      "source": [
        "One problem with our implementation above is that we're repeatedly checking whether every value is greater or less than a given split point $t_k$. We can speed up the algorithm by first _sorting_ the arrays and then observing that we can compute the Gini impurities efficiently by finding the index that separates the two groups (i.e. signal vs background).\n",
        "\n",
        "To that end, let's reset our Decision Tree:"
      ]
    },
    {
      "cell_type": "code",
      "execution_count": null,
      "metadata": {
        "id": "4G5KXIYoM_AQ"
      },
      "outputs": [],
      "source": [
        "tree = TreeEnsemble(X_train_sub, y_train, 1, 1000).trees[0]"
      ]
    },
    {
      "cell_type": "code",
      "execution_count": null,
      "metadata": {
        "id": "6W-GGz9eM_AQ"
      },
      "outputs": [],
      "source": [
        "def find_better_split(self, feature_index):\n",
        "    X, y = self.X.values[self.indices, feature_index], self.y.values[self.indices]\n",
        "\n",
        "    sorted_indices = np.argsort(X)\n",
        "    y_sorted, X_sorted = y[sorted_indices], X[sorted_indices]\n",
        "    index = 0\n",
        "\n",
        "    for i in range(0, self.n_samples - self.min_samples_leaf):\n",
        "        index += 1\n",
        "        Xi = X_sorted[i]\n",
        "        # continue if stopping criterion not reached\n",
        "        if i < self.min_samples_leaf - 1 or Xi == X_sorted[i + 1]:\n",
        "            continue\n",
        "\n",
        "        # calculate Gini impurities for left and right nodes\n",
        "        lhs_gini = gini_impurity(self, y_sorted[:index])\n",
        "        rhs_gini = gini_impurity(self, y_sorted[index:])\n",
        "        # calculate score for current split point\n",
        "        curr_score = lhs_gini * len(y_sorted[:index]) / len(y_sorted) + rhs_gini * len(y_sorted[index:]) / len(y_sorted)\n",
        "        # update attributes if new score is smaller than old\n",
        "        if curr_score < self.score:\n",
        "            self.feature_index, self.score, self.split, self.gini = (\n",
        "                feature_index,\n",
        "                curr_score,\n",
        "                X_sorted[i],\n",
        "                gini_impurity(self, y),\n",
        "            )"
      ]
    },
    {
      "cell_type": "code",
      "execution_count": null,
      "metadata": {
        "id": "ucPraWnTM_AQ",
        "outputId": "61167434-846b-4f67-e496-2b26b97d1f15",
        "colab": {
          "base_uri": "https://localhost:8080/"
        }
      },
      "outputs": [
        {
          "output_type": "stream",
          "name": "stdout",
          "text": [
            "92.8 ms ± 1.37 ms per loop (mean ± std. dev. of 7 runs, 10 loops each)\n"
          ]
        },
        {
          "output_type": "execute_result",
          "data": {
            "text/plain": [
              "n_samples: 1000; value: [0.516 0.484]; gini: 0.49948800000000004; score: 0.406274337005304; feature: lepton 1 pT; split_point: 0.8724983930587769"
            ]
          },
          "metadata": {},
          "execution_count": 37
        }
      ],
      "source": [
        "%timeit find_better_split(tree, feature_index=1)\n",
        "tree"
      ]
    },
    {
      "cell_type": "markdown",
      "metadata": {
        "id": "hXKVV-eKM_AQ"
      },
      "source": [
        "Not bad - we've reduced the complexity of our original algorithm from $O(n^2)$ to $O(n)$ to gain roughly a factor of 60x speed up! Let's check we recover the same result for `missing energy magnitude` as before:"
      ]
    },
    {
      "cell_type": "code",
      "execution_count": null,
      "metadata": {
        "id": "ws46B68rM_AQ",
        "outputId": "87e9485f-1f0d-47e3-e396-4ee6c4d8324c",
        "colab": {
          "base_uri": "https://localhost:8080/"
        }
      },
      "outputs": [
        {
          "output_type": "execute_result",
          "data": {
            "text/plain": [
              "n_samples: 1000; value: [0.516 0.484]; gini: 0.49948800000000004; score: 0.3864820927729048; feature: missing energy magnitude; split_point: 1.1392959356307983"
            ]
          },
          "metadata": {},
          "execution_count": 38
        }
      ],
      "source": [
        "find_better_split(tree, feature_index=0)\n",
        "tree"
      ]
    },
    {
      "cell_type": "markdown",
      "metadata": {
        "id": "zNUPY6EkM_AQ"
      },
      "source": [
        "Finally, we can override the function in our `DecisionTree` class so we can access it from our `TreeEnsemble`:"
      ]
    },
    {
      "cell_type": "code",
      "execution_count": null,
      "metadata": {
        "id": "xOwYwp-EM_AQ"
      },
      "outputs": [],
      "source": [
        "DecisionTree.find_better_split = find_better_split"
      ]
    },
    {
      "cell_type": "code",
      "execution_count": null,
      "metadata": {
        "id": "ckYEXFN_M_AQ",
        "outputId": "e7bd54e2-25d4-4229-e5c6-a9bdf157ef9d",
        "colab": {
          "base_uri": "https://localhost:8080/"
        }
      },
      "outputs": [
        {
          "output_type": "execute_result",
          "data": {
            "text/plain": [
              "n_samples: 1000; value: [0.516 0.484]; gini: 0.49948800000000004; score: 0.3864820927729048; feature: missing energy magnitude; split_point: 1.1392959356307983"
            ]
          },
          "metadata": {},
          "execution_count": 40
        }
      ],
      "source": [
        "tree = TreeEnsemble(X_train, y_train, 1, 1000).trees[0]\n",
        "tree"
      ]
    },
    {
      "cell_type": "markdown",
      "metadata": {
        "id": "gQixqLykM_AR"
      },
      "source": [
        "## Growing the full decision tree"
      ]
    },
    {
      "cell_type": "markdown",
      "metadata": {
        "id": "uSA6WWkKM_AR"
      },
      "source": [
        "So far we have worked out how to find the best split point for single now - we are now ready to tackle building the whole tree! Let's increase the depth in our scikit-learn model to compare against:"
      ]
    },
    {
      "cell_type": "code",
      "execution_count": null,
      "metadata": {
        "id": "x3J3SOdjM_AR",
        "outputId": "bc59a4ed-3483-4769-e2e2-4233d3d18696",
        "colab": {
          "base_uri": "https://localhost:8080/",
          "height": 575
        }
      },
      "outputs": [
        {
          "output_type": "display_data",
          "data": {
            "text/plain": [
              "<Figure size 2160x720 with 1 Axes>"
            ],
            "image/png": "[encoded data removed]"
          },
          "metadata": {
            "needs_background": "light"
          }
        }
      ],
      "source": [
        "model = RandomForestClassifier(n_estimators=1, max_depth=2, bootstrap=False, random_state=42, max_features=None)\n",
        "model.fit(X_samp, y_samp)\n",
        "\n",
        "draw_tree(model)"
      ]
    },
    {
      "cell_type": "markdown",
      "metadata": {
        "id": "UlQ63cU2M_AR"
      },
      "source": [
        "Recall that our `DecisionTree` class has a simple function to find the best split:\n",
        "\n",
        "```python\n",
        "def find_feature_split(self):\n",
        "    for i in range(self.n_features):\n",
        "        self.find_better_split(i)\n",
        "```\n",
        "This is not quite sufficient it only checks for the best split at the root node, when in fact we need to check whether is a better split in the left and right child nodes. The following change to the code takes care of this:"
      ]
    },
    {
      "cell_type": "code",
      "execution_count": null,
      "metadata": {
        "id": "UhRt0XNbM_AR"
      },
      "outputs": [],
      "source": [
        "def find_feature_split(self):\n",
        "    for i in range(self.n_features):\n",
        "        self.find_better_split(i)\n",
        "\n",
        "    if self.is_leaf:\n",
        "        return\n",
        "\n",
        "    X = self.split_feature\n",
        "    # grab indices for left and right nodes\n",
        "    lhs = np.nonzero(X <= self.split)[0]\n",
        "    rhs = np.nonzero(X > self.split)[0]\n",
        "    # recursively calculate decision trees for all nodes\n",
        "    self.lhs = DecisionTree(self.X, self.y, self.indices[lhs])\n",
        "    self.rhs = DecisionTree(self.X, self.y, self.indices[rhs])"
      ]
    },
    {
      "cell_type": "markdown",
      "metadata": {
        "id": "ucgA-4TWM_AR"
      },
      "source": [
        "Now we can override the function in our class and test we can reproduce the numbers in our scikit-learn tree:"
      ]
    },
    {
      "cell_type": "code",
      "execution_count": null,
      "metadata": {
        "id": "e6YRJjWTM_AR"
      },
      "outputs": [],
      "source": [
        "DecisionTree.find_feature_split = find_feature_split"
      ]
    },
    {
      "cell_type": "code",
      "execution_count": null,
      "metadata": {
        "id": "T6raDxFwM_AR",
        "outputId": "a9045153-51c2-4cd4-e324-9843e39af44b",
        "colab": {
          "base_uri": "https://localhost:8080/"
        }
      },
      "outputs": [
        {
          "output_type": "execute_result",
          "data": {
            "text/plain": [
              "n_samples: 1000; value: [0.516 0.484]; gini: 0.49948800000000004; score: 0.3864820927729048; feature: missing energy magnitude; split_point: 1.1392959356307983"
            ]
          },
          "metadata": {},
          "execution_count": 44
        }
      ],
      "source": [
        "tree = TreeEnsemble(X_samp, y_samp, 1, 1000).trees[0]\n",
        "tree"
      ]
    },
    {
      "cell_type": "code",
      "execution_count": null,
      "metadata": {
        "id": "V3tPOOASM_AR",
        "outputId": "0186f121-0c51-4d00-eeb8-a55362fa007a",
        "colab": {
          "base_uri": "https://localhost:8080/"
        }
      },
      "outputs": [
        {
          "output_type": "execute_result",
          "data": {
            "text/plain": [
              "n_samples: 707; value: [0.66902405 0.33097595]; gini: 0.4428617442467625; score: 0.3753049089041096; feature: lepton 1 pT; split_point: 0.8853832483291628"
            ]
          },
          "metadata": {},
          "execution_count": 45
        }
      ],
      "source": [
        "tree.lhs"
      ]
    },
    {
      "cell_type": "code",
      "execution_count": null,
      "metadata": {
        "id": "XOT6XPs2M_AR",
        "outputId": "20631dbd-e4f7-4008-9305-9575d6bfece6",
        "colab": {
          "base_uri": "https://localhost:8080/"
        }
      },
      "outputs": [
        {
          "output_type": "execute_result",
          "data": {
            "text/plain": [
              "n_samples: 293; value: [0.14675768 0.85324232]; gini: 0.2504397255646542; score: 0.22066400314213208; feature: missing energy magnitude; split_point: 1.4726196527481081"
            ]
          },
          "metadata": {},
          "execution_count": 46
        }
      ],
      "source": [
        "tree.rhs"
      ]
    },
    {
      "cell_type": "code",
      "execution_count": null,
      "metadata": {
        "id": "qPFVmv3TM_AR",
        "outputId": "a6a35d47-d1b2-47a5-8582-64f694ed14f6",
        "colab": {
          "base_uri": "https://localhost:8080/"
        }
      },
      "outputs": [
        {
          "output_type": "execute_result",
          "data": {
            "text/plain": [
              "n_samples: 477; value: [0.7966457 0.2033543]; gini: 0.32400265460666544; score: 0.3118973109371423; feature: lepton 1 pT; split_point: 0.7281696796417235"
            ]
          },
          "metadata": {},
          "execution_count": 47
        }
      ],
      "source": [
        "tree.lhs.lhs"
      ]
    },
    {
      "cell_type": "code",
      "execution_count": null,
      "metadata": {
        "id": "K_ttnytyM_AR",
        "outputId": "4b7d3f9d-eb1a-4598-a591-a6eb0dc2ec09",
        "colab": {
          "base_uri": "https://localhost:8080/"
        }
      },
      "outputs": [
        {
          "output_type": "execute_result",
          "data": {
            "text/plain": [
              "n_samples: 230; value: [0.40434783 0.59565217]; gini: 0.4817013232514178; score: 0.4334455110107284; feature: lepton 1 pT; split_point: 1.5821422338485713"
            ]
          },
          "metadata": {},
          "execution_count": 48
        }
      ],
      "source": [
        "tree.lhs.rhs"
      ]
    },
    {
      "cell_type": "code",
      "execution_count": null,
      "metadata": {
        "id": "6kuEMJpDM_AR",
        "outputId": "8c187298-6020-4ac8-f70d-3a138cecadd5",
        "colab": {
          "base_uri": "https://localhost:8080/"
        }
      },
      "outputs": [
        {
          "output_type": "execute_result",
          "data": {
            "text/plain": [
              "n_samples: 102; value: [0.31372549 0.68627451]; gini: 0.43060361399461744; score: 0.37738731856378904; feature: lepton 1 pT; split_point: 0.6343935132026673"
            ]
          },
          "metadata": {},
          "execution_count": 49
        }
      ],
      "source": [
        "tree.rhs.lhs"
      ]
    },
    {
      "cell_type": "code",
      "execution_count": null,
      "metadata": {
        "id": "qyGxwolWM_AR",
        "outputId": "80bc619f-8e13-465f-d1ab-3697465fdb27",
        "colab": {
          "base_uri": "https://localhost:8080/"
        }
      },
      "outputs": [
        {
          "output_type": "execute_result",
          "data": {
            "text/plain": [
              "n_samples: 191; value: [0.05759162 0.94240838]; gini: 0.10854965598530741; score: 0.1032951765936059; feature: missing energy magnitude; split_point: 1.6436718702316286"
            ]
          },
          "metadata": {},
          "execution_count": 50
        }
      ],
      "source": [
        "tree.rhs.rhs"
      ]
    },
    {
      "cell_type": "markdown",
      "metadata": {
        "id": "bWp0YyveM_AR"
      },
      "source": [
        "Hooray, it works 🥳🥳🥳!"
      ]
    },
    {
      "cell_type": "markdown",
      "metadata": {
        "id": "nX7IElC7M_AR"
      },
      "source": [
        "## Generate predictions"
      ]
    },
    {
      "cell_type": "markdown",
      "metadata": {
        "id": "yQcmWHyXM_AR"
      },
      "source": [
        "Now that we have something that can train a Decision Tree, the next step is to implement the methods to generate predictions. Although we have `TreeEnsemble.predict` we do not have anything like this yet for `DecisionTree`. To make things more interesting, let's add a few more columns to our training set:"
      ]
    },
    {
      "cell_type": "code",
      "execution_count": null,
      "metadata": {
        "id": "R9MsJYfUM_AR"
      },
      "outputs": [],
      "source": [
        "cols = [\"missing energy magnitude\", \"lepton 1 pT\", \"axial MET\", \"M_TR_2\", \"M_R\", \"S_R\"]\n",
        "\n",
        "X_train_sub = X_train[cols].copy()\n",
        "X_valid_sub = X_valid[cols].copy()"
      ]
    },
    {
      "cell_type": "markdown",
      "metadata": {
        "id": "MPXt9T9YM_AR"
      },
      "source": [
        "Let's create our tree ensemble again to make sure we can compare against scikit-learn:"
      ]
    },
    {
      "cell_type": "code",
      "execution_count": null,
      "metadata": {
        "id": "cHx_wLGFM_AS",
        "outputId": "cbd233ea-42c1-421e-fde4-d6bb6d1ee3ec",
        "colab": {
          "base_uri": "https://localhost:8080/"
        }
      },
      "outputs": [
        {
          "output_type": "stream",
          "name": "stdout",
          "text": [
            "CPU times: user 4.88 s, sys: 33.8 ms, total: 4.92 s\n",
            "Wall time: 4.91 s\n"
          ]
        }
      ],
      "source": [
        "%time tree = TreeEnsemble(X_train_sub, y_train, 1, 1000).trees[0]\n",
        "X_samp, y_samp = tree.X, tree.y"
      ]
    },
    {
      "cell_type": "code",
      "execution_count": null,
      "metadata": {
        "id": "9o3D9K_RM_AS",
        "outputId": "b2046dd1-4ec9-4c39-82e5-79f3ffc57f43",
        "colab": {
          "base_uri": "https://localhost:8080/"
        }
      },
      "outputs": [
        {
          "output_type": "execute_result",
          "data": {
            "text/plain": [
              "RandomForestClassifier(bootstrap=False, max_features=None, min_samples_leaf=5,\n",
              "                       n_estimators=1, random_state=42)"
            ]
          },
          "metadata": {},
          "execution_count": 53
        }
      ],
      "source": [
        "model = RandomForestClassifier(\n",
        "    n_estimators=1, max_depth=None, bootstrap=False, max_features=None, random_state=42, min_samples_leaf=5,\n",
        ")\n",
        "model.fit(X_samp, y_samp)"
      ]
    },
    {
      "cell_type": "markdown",
      "metadata": {
        "id": "DSo0905VM_AS"
      },
      "source": [
        "To generate the predictions, we simply need to loop over each row in $X$ and build the array as follows:"
      ]
    },
    {
      "cell_type": "code",
      "execution_count": null,
      "metadata": {
        "id": "UkU902UEM_AS"
      },
      "outputs": [],
      "source": [
        "def predict(self, X):\n",
        "    return np.array([self.predict_row(Xi) for Xi in X])\n",
        "\n",
        "\n",
        "DecisionTree.predict = predict"
      ]
    },
    {
      "cell_type": "markdown",
      "metadata": {
        "id": "LwDJzjhzM_AS"
      },
      "source": [
        "The final step is to implement `predict_row`, which is mostly trivial: if we're at a leaf note we return the class label with the highest probability, otherwise we figure out whether to traverse to the left or right child node, and so on:"
      ]
    },
    {
      "cell_type": "code",
      "execution_count": null,
      "metadata": {
        "id": "ShKW2JPmM_AS"
      },
      "outputs": [],
      "source": [
        "def predict_row(self, Xi):\n",
        "    if self.is_leaf:\n",
        "        return self.value\n",
        "    t = self.lhs if Xi[self.feature_index] <= self.split else self.rhs\n",
        "    return t.predict_row(Xi)\n",
        "\n",
        "\n",
        "DecisionTree.predict_row = predict_row"
      ]
    },
    {
      "cell_type": "markdown",
      "metadata": {
        "id": "A9QriXuFM_AS"
      },
      "source": [
        "With this we can now calculate our class probabilities:"
      ]
    },
    {
      "cell_type": "code",
      "execution_count": null,
      "metadata": {
        "id": "W8aClWAoM_AS",
        "outputId": "3e0d47b3-b8d5-40c9-e936-06094e6cc779",
        "colab": {
          "base_uri": "https://localhost:8080/"
        }
      },
      "outputs": [
        {
          "output_type": "stream",
          "name": "stdout",
          "text": [
            "CPU times: user 163 ms, sys: 853 µs, total: 164 ms\n",
            "Wall time: 164 ms\n"
          ]
        }
      ],
      "source": [
        "%time probs = tree.predict(X_valid_sub.values)[:, 1]"
      ]
    },
    {
      "cell_type": "markdown",
      "metadata": {
        "id": "7Bsi-epMM_AS"
      },
      "source": [
        "and evaluate the ROC AUC score on the validation set:"
      ]
    },
    {
      "cell_type": "code",
      "execution_count": null,
      "metadata": {
        "id": "55U--p0gM_AS",
        "outputId": "c05420ca-49b9-4975-9308-6b0e28d3f71b",
        "colab": {
          "base_uri": "https://localhost:8080/"
        }
      },
      "outputs": [
        {
          "output_type": "execute_result",
          "data": {
            "text/plain": [
              "0.7603031405574215"
            ]
          },
          "metadata": {},
          "execution_count": 57
        }
      ],
      "source": [
        "roc_auc_score(y_valid, probs)"
      ]
    },
    {
      "cell_type": "markdown",
      "metadata": {
        "id": "OUo9uc_MM_AS"
      },
      "source": [
        "How does this compare with scikit-learn's implementation? Let's find out by calculating their predictions and evaluating on the validation set:"
      ]
    },
    {
      "cell_type": "code",
      "execution_count": null,
      "metadata": {
        "id": "gA2IyCQWM_AS",
        "outputId": "1ac0e90f-0287-4ea8-fd94-da202cba3ef0",
        "colab": {
          "base_uri": "https://localhost:8080/"
        }
      },
      "outputs": [
        {
          "output_type": "execute_result",
          "data": {
            "text/plain": [
              "0.76246534984286"
            ]
          },
          "metadata": {},
          "execution_count": 58
        }
      ],
      "source": [
        "probs_sklearn = model.predict_proba(X_valid_sub)[:, 1]\n",
        "roc_auc_score(y_valid, probs_sklearn)"
      ]
    },
    {
      "cell_type": "markdown",
      "metadata": {
        "id": "JxT8cVzAM_AS"
      },
      "source": [
        "With a difference of < 1%, our implementation does not perform too badly at all!"
      ]
    },
    {
      "cell_type": "markdown",
      "metadata": {
        "id": "RzTQjrQuM_AS"
      },
      "source": [
        "## Putting it together"
      ]
    },
    {
      "cell_type": "markdown",
      "metadata": {
        "id": "_A70tqkcM_AS"
      },
      "source": [
        "Let's wrap this up by collecting all of our class functions into two dedicated classes:"
      ]
    },
    {
      "cell_type": "code",
      "execution_count": null,
      "metadata": {
        "id": "O_lMumEwM_AS"
      },
      "outputs": [],
      "source": [
        "class TreeEnsemble:\n",
        "    # instance attributes\n",
        "    def __init__(\n",
        "        self, X: np.ndarray, y: np.ndarray, n_trees: int, sample_size: int, min_samples_leaf: int = 5,\n",
        "    ):\n",
        "        # use constant random seed for testing\n",
        "        np.random.seed(42)\n",
        "        self.X = X\n",
        "        self.y = y\n",
        "        self.n_trees = n_trees\n",
        "        self.sample_size = sample_size\n",
        "        self.min_samples_leaf = min_samples_leaf\n",
        "\n",
        "        self.trees = [self.create_tree() for i in range(n_trees)]\n",
        "\n",
        "    # instance method\n",
        "    def create_tree(self):\n",
        "        # grab random subsample without replacement - no bootstrapping!\n",
        "        random_indices = np.random.permutation(len(self.y))[: self.sample_size]\n",
        "        return DecisionTree(\n",
        "            self.X.iloc[random_indices], self.y.iloc[random_indices], min_samples_leaf=self.min_samples_leaf,\n",
        "        )\n",
        "\n",
        "    # instance method\n",
        "    def predict(self, X):\n",
        "        return np.mean([t.predict(X) for t in self.trees], axis=0)"
      ]
    },
    {
      "cell_type": "code",
      "execution_count": null,
      "metadata": {
        "id": "-A2OtStXM_AS"
      },
      "outputs": [],
      "source": [
        "class DecisionTree:\n",
        "    def __init__(self, X, y, indices=None, min_samples_leaf=5):\n",
        "        # use all rows for root node\n",
        "        if indices is None:\n",
        "            indices = np.arange(len(y))\n",
        "\n",
        "        self.X = X\n",
        "        self.y = y\n",
        "        self.indices = indices\n",
        "        self.min_samples_leaf = min_samples_leaf\n",
        "\n",
        "        self.n_samples, self.n_features = len(indices), X.shape[1]\n",
        "        self.value = self.calculate_class_probabilities(self.y, self.indices)\n",
        "        self.gini = self.gini_impurity(self.y)\n",
        "        self.score = float(\"inf\")\n",
        "        self.find_feature_split()\n",
        "\n",
        "    def find_feature_split(self):\n",
        "        for i in range(self.n_features):\n",
        "            self.find_better_split(i)\n",
        "\n",
        "        if self.is_leaf:\n",
        "            return\n",
        "\n",
        "        X = self.split_feature\n",
        "        # grab indices for left and right nodes\n",
        "        lhs = np.nonzero(X <= self.split)[0]\n",
        "        rhs = np.nonzero(X > self.split)[0]\n",
        "        # recursively calculate decision trees for all nodes\n",
        "        self.lhs = DecisionTree(self.X, self.y, self.indices[lhs])\n",
        "        self.rhs = DecisionTree(self.X, self.y, self.indices[rhs])\n",
        "\n",
        "    def find_better_split(self, feature_index):\n",
        "        X, y = self.X.values[self.indices, feature_index], self.y.values[self.indices]\n",
        "\n",
        "        sorted_indices = np.argsort(X)\n",
        "        y_sorted, X_sorted = y[sorted_indices], X[sorted_indices]\n",
        "        index = 0\n",
        "\n",
        "        for i in range(0, self.n_samples - self.min_samples_leaf):\n",
        "            index += 1\n",
        "            Xi = X_sorted[i]\n",
        "            # continue if stopping criterion not reached\n",
        "            if i < self.min_samples_leaf - 1 or Xi == X_sorted[i + 1]:\n",
        "                continue\n",
        "\n",
        "            # calculate Gini impurities for left and right nodes\n",
        "            lhs_gini = gini_impurity(self, y_sorted[:index])\n",
        "            rhs_gini = gini_impurity(self, y_sorted[index:])\n",
        "            # calculate score for current split point\n",
        "            curr_score = lhs_gini * len(y_sorted[:index]) / len(y_sorted) + rhs_gini * len(y_sorted[index:]) / len(\n",
        "                y_sorted\n",
        "            )\n",
        "            # update attributes if new score is smaller than old\n",
        "            if curr_score < self.score:\n",
        "                self.feature_index, self.score, self.split, self.gini = (\n",
        "                    feature_index,\n",
        "                    curr_score,\n",
        "                    X_sorted[i],\n",
        "                    gini_impurity(self, y),\n",
        "                )\n",
        "\n",
        "    def calculate_class_probabilities(self, y: pd.Series, indices: np.ndarray):\n",
        "        probs = np.unique(y.iloc[indices], return_counts=True)[1] / len(y.iloc[indices])\n",
        "\n",
        "        # handle edge case when leaf only contains one sample\n",
        "        if len(probs) == 1:\n",
        "            if int(y.iloc[indices].values[0]) == 0:\n",
        "                value = np.array([1.0, 0.0])\n",
        "            else:\n",
        "                value = np.array([0.0, 1.0])\n",
        "        else:\n",
        "            value = probs\n",
        "\n",
        "        return value\n",
        "\n",
        "    def gini_impurity(self, y):\n",
        "        return 1.0 - np.sum((np.unique(y, return_counts=True)[1] / len(y)) ** 2)\n",
        "\n",
        "    def predict(self, X):\n",
        "        return np.array([self.predict_row(Xi) for Xi in X])\n",
        "\n",
        "    def predict_row(self, Xi):\n",
        "        if self.is_leaf:\n",
        "            return self.value\n",
        "        t = self.lhs if Xi[self.feature_index] <= self.split else self.rhs\n",
        "        return t.predict_row(Xi)\n",
        "\n",
        "    @property\n",
        "    def split_name(self):\n",
        "        return self.X.columns[self.feature_index]\n",
        "\n",
        "    @property\n",
        "    def split_feature(self):\n",
        "        return self.X.values[self.indices, self.feature_index]\n",
        "\n",
        "    @property\n",
        "    def is_leaf(self):\n",
        "        return self.score == float(\"inf\")\n",
        "\n",
        "    # convert object to string - see https://dbader.org/blog/python-repr-vs-str\n",
        "    def __repr__(self):\n",
        "        s = f\"n_samples: {self.n_samples}; value: {self.value}; gini: {self.gini}\"\n",
        "        if not self.is_leaf:\n",
        "            s += f\"; score: {self.score}; feature: {self.split_name}; split_point: {self.split}\"\n",
        "        return s"
      ]
    },
    {
      "cell_type": "markdown",
      "metadata": {
        "id": "1yTMJTGGM_AS"
      },
      "source": [
        "As a sanity check, let's evaluate the performance on a single tree:"
      ]
    },
    {
      "cell_type": "code",
      "execution_count": null,
      "metadata": {
        "id": "gqiK8f6MM_AS",
        "outputId": "14669e2a-7716-42b8-ee10-355ce8723a39"
      },
      "outputs": [
        {
          "data": {
            "text/plain": [
              "0.7603031405574215"
            ]
          },
          "execution_count": null,
          "metadata": {},
          "output_type": "execute_result"
        }
      ],
      "source": [
        "tree = TreeEnsemble(X_train_sub, y_train, n_trees=1, sample_size=1000).trees[0]\n",
        "X_samp, y_samp = tree.X, tree.y\n",
        "\n",
        "# calculate class probabilities\n",
        "probs = tree.predict(X_valid_sub.values)[:, 1]\n",
        "# evaluate\n",
        "roc_auc_score(y_valid, probs)"
      ]
    },
    {
      "cell_type": "markdown",
      "metadata": {
        "id": "NVwYA2XtM_AT"
      },
      "source": [
        "This matches our earlier result, so let's now roll-out to a full forest and compare against scikit-learn:"
      ]
    },
    {
      "cell_type": "code",
      "execution_count": null,
      "metadata": {
        "id": "_lR4gKuKM_AT",
        "outputId": "0cd1956a-e9ad-4860-b764-e57f37d927a9"
      },
      "outputs": [
        {
          "name": "stdout",
          "output_type": "stream",
          "text": [
            "CPU times: user 15.5 s, sys: 38.2 ms, total: 15.5 s\n",
            "Wall time: 15.7 s\n"
          ]
        },
        {
          "data": {
            "text/plain": [
              "0.8309216956906361"
            ]
          },
          "execution_count": null,
          "metadata": {},
          "output_type": "execute_result"
        }
      ],
      "source": [
        "%time rf = TreeEnsemble(X_train_sub, y_train, n_trees=5, sample_size=1000)\n",
        "\n",
        "probs = rf.predict(X_valid_sub.values)[:, 1]\n",
        "roc_auc_score(y_valid, probs)"
      ]
    },
    {
      "cell_type": "code",
      "execution_count": null,
      "metadata": {
        "id": "e6e08YfUM_AT",
        "outputId": "dc90e4bc-7ada-42c2-f5ee-4e9527e71bc2"
      },
      "outputs": [
        {
          "data": {
            "text/plain": [
              "0.7794032635534188"
            ]
          },
          "execution_count": null,
          "metadata": {},
          "output_type": "execute_result"
        }
      ],
      "source": [
        "model = RandomForestClassifier(n_estimators=5, bootstrap=False, max_features=None, random_state=42, min_samples_leaf=5)\n",
        "model.fit(X_train_sub, y_train)\n",
        "\n",
        "probs_sklearn = model.predict_proba(X_valid_sub)[:, 1]\n",
        "roc_auc_score(y_valid, probs_sklearn)"
      ]
    },
    {
      "cell_type": "markdown",
      "metadata": {
        "id": "ZH9dgSL4M_AT"
      },
      "source": [
        "The final results are not the same, but ours did a little better, possibly due to differences in how we average the predictions across trees. In any case, we can be happy that our implementation that we wrote entirely from scratch is competitive with a well tested implementation!"
      ]
    },
    {
      "cell_type": "markdown",
      "metadata": {
        "id": "TUrUpgXfM_AT"
      },
      "source": [
        "## Performance improvements with Cython and Numba"
      ]
    },
    {
      "cell_type": "markdown",
      "metadata": {
        "id": "iySSEwWbM_AT"
      },
      "source": [
        "Although our Random Forest implementation did OK on the ROC AUC score, its runtime performance leaves a lot to be desired. One way we could improve this is by following scikit-learn, who typically implement their algorithms in [Cython](https://cython.org/), which allows you to generate efficient C code from Python. To use Cython in a Jupyter notebook we call the magic function:"
      ]
    },
    {
      "cell_type": "code",
      "execution_count": null,
      "metadata": {
        "id": "mEnniJUqM_AT"
      },
      "outputs": [],
      "source": [
        "%load_ext Cython"
      ]
    },
    {
      "cell_type": "markdown",
      "metadata": {
        "id": "1_PRj69EM_AT"
      },
      "source": [
        "and then can compare the pure Python function"
      ]
    },
    {
      "cell_type": "code",
      "execution_count": null,
      "metadata": {
        "id": "UtlCdT1KM_AT"
      },
      "outputs": [],
      "source": [
        "def fib1(n):\n",
        "    a, b = 0, 1\n",
        "    while b < n:\n",
        "        a, b = b, a + b"
      ]
    },
    {
      "cell_type": "code",
      "execution_count": null,
      "metadata": {
        "id": "dEp6WmYEM_AT",
        "outputId": "28867132-dce9-490d-864e-bd5c71a281d2"
      },
      "outputs": [
        {
          "name": "stdout",
          "output_type": "stream",
          "text": [
            "478 ns ± 3 ns per loop (mean ± std. dev. of 7 runs, 1000000 loops each)\n"
          ]
        }
      ],
      "source": [
        "%timeit fib1(50)"
      ]
    },
    {
      "cell_type": "markdown",
      "metadata": {
        "id": "lhcF1po_M_AT"
      },
      "source": [
        "against it's compiled version"
      ]
    },
    {
      "cell_type": "code",
      "execution_count": null,
      "metadata": {
        "id": "ECwu3gIbM_AT"
      },
      "outputs": [],
      "source": [
        "%%cython\n",
        "def fib2(n):\n",
        "    a, b = 0, 1\n",
        "    while b < n:\n",
        "        a, b = b, a + b"
      ]
    },
    {
      "cell_type": "code",
      "execution_count": null,
      "metadata": {
        "id": "KkUQx3M2M_AT",
        "outputId": "6af83bbf-c60f-4a71-aaeb-30bbf4c76862"
      },
      "outputs": [
        {
          "name": "stdout",
          "output_type": "stream",
          "text": [
            "210 ns ± 4.99 ns per loop (mean ± std. dev. of 7 runs, 1000000 loops each)\n"
          ]
        }
      ],
      "source": [
        "%timeit fib2(50)"
      ]
    },
    {
      "cell_type": "markdown",
      "metadata": {
        "id": "kD6aTGG4M_AT"
      },
      "source": [
        "We can gain even more performance gains by declaring the types explicitly:"
      ]
    },
    {
      "cell_type": "code",
      "execution_count": null,
      "metadata": {
        "id": "4ebhH9UwM_AT"
      },
      "outputs": [],
      "source": [
        "%%cython\n",
        "def fib3(int n):\n",
        "    cdef int b = 1\n",
        "    cdef int a = 0\n",
        "    cdef int t = 0\n",
        "    while b < n:\n",
        "        t = a\n",
        "        a = b\n",
        "        b = t + b"
      ]
    },
    {
      "cell_type": "code",
      "execution_count": null,
      "metadata": {
        "id": "eOSn3gaIM_AT",
        "outputId": "85649e8a-82a5-416e-88b4-b0418e74cebf"
      },
      "outputs": [
        {
          "name": "stdout",
          "output_type": "stream",
          "text": [
            "41.6 ns ± 1.21 ns per loop (mean ± std. dev. of 7 runs, 10000000 loops each)\n"
          ]
        }
      ],
      "source": [
        "%timeit fib3(50)"
      ]
    },
    {
      "cell_type": "markdown",
      "metadata": {
        "id": "Vj74-EGQM_AT"
      },
      "source": [
        "In practice, I find that [Numba](http://numba.pydata.org/) provides a powerful alternative to Cython and does away with the need to learn new data types etc. To use Numba one simply needs to import it and add a decorator to your functions:"
      ]
    },
    {
      "cell_type": "code",
      "execution_count": null,
      "metadata": {
        "id": "NlVYHAKfM_AT"
      },
      "outputs": [],
      "source": [
        "from numba import njit"
      ]
    },
    {
      "cell_type": "code",
      "execution_count": null,
      "metadata": {
        "id": "jhe2RBpzM_AT"
      },
      "outputs": [],
      "source": [
        "@njit\n",
        "def fib4(n):\n",
        "    a, b = 0, 1\n",
        "    while b < n:\n",
        "        a, b = b, a + b"
      ]
    },
    {
      "cell_type": "code",
      "execution_count": null,
      "metadata": {
        "id": "pF2dWypqM_AT",
        "outputId": "54097637-248f-44d9-cf17-ca9d8e7f095a"
      },
      "outputs": [
        {
          "name": "stdout",
          "output_type": "stream",
          "text": [
            "109 ns ± 1.07 ns per loop (mean ± std. dev. of 7 runs, 10000000 loops each)\n"
          ]
        }
      ],
      "source": [
        "%timeit fib4(50)"
      ]
    },
    {
      "cell_type": "markdown",
      "metadata": {
        "id": "t119gPMQM_AT"
      },
      "source": [
        "This is especially useful when working with NumPy functions, consider for example the generation of the Mandelbrot set using NumPy:"
      ]
    },
    {
      "cell_type": "code",
      "execution_count": null,
      "metadata": {
        "id": "Vk4BpYX4M_AT"
      },
      "outputs": [],
      "source": [
        "# example from - https://ipython-books.github.io/52-accelerating-pure-python-code-with-numba-and-just-in-time-compilation/\n",
        "size = 400\n",
        "iterations = 100\n",
        "\n",
        "\n",
        "def mandelbrot_1(size, iterations):\n",
        "    m = np.zeros((size, size))\n",
        "    for i in range(size):\n",
        "        for j in range(size):\n",
        "            c = -2 + 3.0 / size * j + 1j * (1.5 - 3.0 / size * i)\n",
        "            z = 0\n",
        "            for n in range(iterations):\n",
        "                if np.abs(z) <= 10:\n",
        "                    z = z * z + c\n",
        "                    m[i, j] = n\n",
        "                else:\n",
        "                    break\n",
        "    return m"
      ]
    },
    {
      "cell_type": "code",
      "execution_count": null,
      "metadata": {
        "id": "-kJvBHSXM_AT",
        "outputId": "d9900010-e251-42d4-ea22-9622c966cde9"
      },
      "outputs": [
        {
          "data": {
            "image/png": "[encoded data removed]",
            "text/plain": [
              "<Figure size 720x720 with 1 Axes>"
            ]
          },
          "metadata": {
            "needs_background": "light"
          },
          "output_type": "display_data"
        }
      ],
      "source": [
        "m = mandelbrot_1(size, iterations)\n",
        "fig, ax = plt.subplots(1, 1, figsize=(10, 10))\n",
        "ax.imshow(np.log(m), cmap=plt.cm.hot)\n",
        "ax.set_axis_off()"
      ]
    },
    {
      "cell_type": "code",
      "execution_count": null,
      "metadata": {
        "id": "smP8c_R6M_AT",
        "outputId": "a669abe3-3573-4638-c100-60770364b883"
      },
      "outputs": [
        {
          "name": "stdout",
          "output_type": "stream",
          "text": [
            "5.04 s ± 49 ms per loop (mean ± std. dev. of 7 runs, 1 loop each)\n"
          ]
        }
      ],
      "source": [
        "%timeit mandelbrot_1(size, iterations)"
      ]
    },
    {
      "cell_type": "markdown",
      "metadata": {
        "id": "btzP-9s7M_AU"
      },
      "source": [
        "Adding `@njit` as a decorator gives a 300x speedup!"
      ]
    },
    {
      "cell_type": "code",
      "execution_count": null,
      "metadata": {
        "id": "BcLx5Cb6M_AU"
      },
      "outputs": [],
      "source": [
        "@njit\n",
        "def mandelbrot_2(size, iterations):\n",
        "    m = np.zeros((size, size))\n",
        "    for i in range(size):\n",
        "        for j in range(size):\n",
        "            c = -2 + 3.0 / size * j + 1j * (1.5 - 3.0 / size * i)\n",
        "            z = 0\n",
        "            for n in range(iterations):\n",
        "                if np.abs(z) <= 10:\n",
        "                    z = z * z + c\n",
        "                    m[i, j] = n\n",
        "                else:\n",
        "                    break\n",
        "    return m"
      ]
    },
    {
      "cell_type": "code",
      "execution_count": null,
      "metadata": {
        "id": "KZAzznUtM_AU",
        "outputId": "2e214ede-a873-4073-9b83-1e3a751348a5"
      },
      "outputs": [
        {
          "name": "stdout",
          "output_type": "stream",
          "text": [
            "16.6 ms ± 206 µs per loop (mean ± std. dev. of 7 runs, 100 loops each)\n"
          ]
        }
      ],
      "source": [
        "%timeit mandelbrot_2(size, iterations)"
      ]
    },
    {
      "cell_type": "markdown",
      "metadata": {
        "id": "fX4N2vHUM_AU"
      },
      "source": [
        "## Exercises\n",
        "\n",
        "* An alternative measure of impurity is the so-called Shannon entropy, which measures the average information content of a message. In the context of classification, a set's entropy is zero when it contains examples of only one class. Use the definition of entropy\n",
        "$$ H_i = \\sum_{k=1}^n p_{i,k} \\log p_{i,k} $$\n",
        "to extend our `DecisionTree` class with a new `criterion` hyperparameter that allows one to use Gini impurity or entropy as a measure of a node's impurity.\n",
        "* In our implementation of `TreeEnsemble` we use all the features at every node to find the best split point. Extend the functionality by introducing a `max_features` hyperparameter that controls the number of features used at every node in a manner similar to scikit-learn."
      ]
    },
    {
      "cell_type": "code",
      "execution_count": null,
      "metadata": {
        "id": "AwJ011LBM_AU"
      },
      "outputs": [],
      "source": []
    }
  ],
  "metadata": {
    "kernelspec": {
      "display_name": "Python 3",
      "language": "python",
      "name": "python3"
    },
    "colab": {
      "provenance": []
    }
  },
  "nbformat": 4,
  "nbformat_minor": 0
}