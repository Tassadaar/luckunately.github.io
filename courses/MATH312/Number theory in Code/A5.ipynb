{
 "cells": [
  {
   "cell_type": "markdown",
   "metadata": {},
   "source": [
    "8.1.4 Encrypt \"THE RIGHT CHOICE\" using the affine transformation C=15P+14 (mod 26)"
   ]
  },
  {
   "cell_type": "code",
   "execution_count": 4,
   "metadata": {},
   "outputs": [
    {
     "name": "stdout",
     "output_type": "stream",
     "text": [
      "NPW JEAPN SPQESW\n"
     ]
    }
   ],
   "source": [
    "message = \"THE RIGHT CHOICE\"\n",
    "encoded = \"\"\n",
    "for i in range(0, len(message)):\n",
    "    if message[i] == ' ':\n",
    "        encoded += ' '\n",
    "        continue\n",
    "    val = ord(message[i]) - ord('A')\n",
    "    encode = (val * 15 + 14) % 26\n",
    "    encoded += chr(encode + ord('A'))\n",
    "    \n",
    "print(encoded)"
   ]
  },
  {
   "cell_type": "markdown",
   "metadata": {},
   "source": [
    "Translate the Char to integer value"
   ]
  },
  {
   "cell_type": "code",
   "execution_count": 10,
   "metadata": {},
   "outputs": [
    {
     "name": "stdout",
     "output_type": "stream",
     "text": [
      "PHONE HONE\n"
     ]
    }
   ],
   "source": [
    "message = \"RTOLK TOLK\"\n",
    "decoded = \"\"\n",
    "for i in range(0, len(message)):\n",
    "    if message[i] == ' ':\n",
    "        decoded += ' '\n",
    "        continue\n",
    "    val = ord(message[i]) - ord('A')\n",
    "    code = 9*(val - 24) % 26\n",
    "    decoded += chr(code + ord('A'))\n",
    "    \n",
    "print(decoded)"
   ]
  },
  {
   "cell_type": "markdown",
   "metadata": {},
   "source": [
    "Check the frequency of the letters:"
   ]
  },
  {
   "cell_type": "code",
   "execution_count": 1,
   "metadata": {},
   "outputs": [
    {
     "name": "stdout",
     "output_type": "stream",
     "text": [
      "Letter 'V' occurred 8 times.\n",
      "Letter 'K' occurred 3 times.\n",
      "Letter 'Y' occurred 2 times.\n",
      "Letter 'M' occurred 2 times.\n",
      "Letter 'J' occurred 2 times.\n",
      "Letter 'E' occurred 2 times.\n",
      "Letter 'R' occurred 1 times.\n",
      "Letter 'C' occurred 1 times.\n",
      "Letter 'L' occurred 1 times.\n",
      "Letter 'F' occurred 1 times.\n",
      "Letter 'W' occurred 1 times.\n",
      "Letter 'B' occurred 1 times.\n",
      "Letter 'P' occurred 1 times.\n",
      "Letter 'Z' occurred 1 times.\n",
      "THEVA LUEOF THEKE YISSE VENTE EN\n"
     ]
    }
   ],
   "source": [
    "from collections import Counter\n",
    "\n",
    "message = \"KYVMR CLVFW KYVBV PZJJV MVEKV VE\"\n",
    "\n",
    "frequency = Counter(message.replace(\" \", \"\"))\n",
    "\n",
    "for letter, count in frequency.most_common():\n",
    "    print(f\"Letter '{letter}' occurred {count} times.\")\n",
    "    \n",
    "# The most common letter is V, so it is likely to be E\n",
    "# We can try to decode the message with V as E\n",
    "decoded = \"\"\n",
    "\n",
    "diff = ord('V') - ord('E')\n",
    "for i in range(0, len(message)):\n",
    "    if message[i] == ' ':\n",
    "        decoded += ' '\n",
    "        continue\n",
    "    val = ord(message[i]) - ord('A')\n",
    "    code = (val - diff) % 26\n",
    "    decoded += chr(code + ord('A'))\n",
    "    \n",
    "print(decoded)\n"
   ]
  }
 ],
 "metadata": {
  "kernelspec": {
   "display_name": "Python 3",
   "language": "python",
   "name": "python3"
  },
  "language_info": {
   "codemirror_mode": {
    "name": "ipython",
    "version": 3
   },
   "file_extension": ".py",
   "mimetype": "text/x-python",
   "name": "python",
   "nbconvert_exporter": "python",
   "pygments_lexer": "ipython3",
   "version": "3.11.5"
  }
 },
 "nbformat": 4,
 "nbformat_minor": 2
}
