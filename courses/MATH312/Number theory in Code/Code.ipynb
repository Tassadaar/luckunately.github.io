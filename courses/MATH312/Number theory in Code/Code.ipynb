{
 "cells": [
  {
   "cell_type": "markdown",
   "metadata": {},
   "source": [
    "Euclidean Algorithm"
   ]
  },
  {
   "cell_type": "code",
   "execution_count": 1,
   "metadata": {},
   "outputs": [
    {
     "name": "stdout",
     "output_type": "stream",
     "text": [
      "GCD of 28800 and 138240 is 5760\n"
     ]
    }
   ],
   "source": [
    "a = 28800# to be divided\n",
    "b = 138240# divisor\n",
    "q = 0 # quotient\n",
    "r = a # remainder\n",
    "\n",
    "def Eucledian(a, b):\n",
    "    if b == 0:\n",
    "        return a\n",
    "    else:\n",
    "        return Eucledian(b, a % b)\n",
    "\n",
    "print(\"GCD of\", a, \"and\", b, \"is\", Eucledian(a, b))"
   ]
  }
 ],
 "metadata": {
  "kernelspec": {
   "display_name": "Python 3",
   "language": "python",
   "name": "python3"
  },
  "language_info": {
   "codemirror_mode": {
    "name": "ipython",
    "version": 3
   },
   "file_extension": ".py",
   "mimetype": "text/x-python",
   "name": "python",
   "nbconvert_exporter": "python",
   "pygments_lexer": "ipython3",
   "version": "0.0.0"
  }
 },
 "nbformat": 4,
 "nbformat_minor": 2
}
